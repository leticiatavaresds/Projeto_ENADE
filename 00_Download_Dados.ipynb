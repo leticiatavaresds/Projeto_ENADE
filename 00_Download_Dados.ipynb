{
 "cells": [
  {
   "cell_type": "markdown",
   "id": "67c4b838",
   "metadata": {},
   "source": [
    "## Importação de Bibliotecas"
   ]
  },
  {
   "cell_type": "code",
   "execution_count": 1,
   "id": "6914025a",
   "metadata": {},
   "outputs": [],
   "source": [
    "# Python versão 3.8.8\n",
    "# Windows 10\n",
    "\n",
    "# biblioteca para realizar requisição\n",
    "import requests # versão 2.25.1\n",
    "\n",
    "# biblioteca para interação com o sistema\n",
    "import os\n",
    "# import shutil"
   ]
  },
  {
   "cell_type": "markdown",
   "id": "bf487002",
   "metadata": {},
   "source": [
    "## Variáveis Globais"
   ]
  },
  {
   "cell_type": "code",
   "execution_count": 2,
   "id": "9110677f",
   "metadata": {},
   "outputs": [],
   "source": [
    "diretorio_atual = os.path.dirname(os.path.realpath('__file__')) + \"\\\\\"\n",
    "diretorio_dados = diretorio_atual + \"Dados\\\\\""
   ]
  },
  {
   "cell_type": "markdown",
   "id": "b37c1170",
   "metadata": {},
   "source": [
    "## Função para download de um arquivo"
   ]
  },
  {
   "cell_type": "code",
   "execution_count": 3,
   "id": "aa89e167",
   "metadata": {},
   "outputs": [],
   "source": [
    "#Função para realizar o download de um arquivo através de uma url e salva-lo no diretório dado\n",
    "def download_arquivo(url, path_arquivo, nome_arquivo):\n",
    "    \n",
    "    # Cria a o pasta se não existe ainda no diretório ainda\n",
    "    if not os.path.exists(path_arquivo):\n",
    "        os.makedirs(path_arquivo) \n",
    "    \n",
    "    mensagem_download = \"Realizando Download do Arquivo '{}'...\".format(nome_arquivo)\n",
    "    mensagem_sucesso = 'Arquivo {} salvo com sucesso.'.format(nome_arquivo).ljust(len(mensagem_download))\n",
    "\n",
    "    print(mensagem_download, end=\"\\r\", flush=True)\n",
    "\n",
    "    requisicao_arq = requests.get(url, path_arquivo + nome_arquivo)\n",
    "    url_content = requisicao_arq.content\n",
    "    csv = open(path_arquivo + nome_arquivo, 'wb')\n",
    "    csv.write(url_content)\n",
    "    csv.close()\n",
    "    print(mensagem_sucesso, end=\"\\n\")"
   ]
  },
  {
   "cell_type": "markdown",
   "id": "4b9e863b",
   "metadata": {},
   "source": [
    "## Download Microdados ENADE"
   ]
  },
  {
   "cell_type": "code",
   "execution_count": 4,
   "id": "b82c1088",
   "metadata": {
    "run_control": {
     "marked": true
    }
   },
   "outputs": [],
   "source": [
    "# Funcao para baixar os microdados do ENADE dos anos 2017, 2018 e 2019\n",
    "\n",
    "def download_microdados_enade(download_novamente = False):\n",
    "    \n",
    "    # Links para download dos microdados\n",
    "    url_enade_2019 = \"https://download.inep.gov.br/microdados/Enade_Microdados/microdados_enade_2019.zip\"\n",
    "    url_enade_2018 = \"https://download.inep.gov.br/microdados/Enade_Microdados/microdados_enade_2018.zip\"\n",
    "    url_enade_2017 = \"https://download.inep.gov.br/microdados/Enade_Microdados/microdados_Enade_2017_portal_2018.10.09.zip\"\n",
    "    urls = [url_enade_2017, url_enade_2018, url_enade_2019]\n",
    "    \n",
    "    pasta_microdados = diretorio_dados + \"Microdados_ENADE\\\\\"\n",
    "    \n",
    "    for url in urls:\n",
    "        print(\"\\n\", end = \"\\r\")\n",
    "        nome_arquivo = url.split(\"/\")[-1]\n",
    "        nome_arquivo = \"_\".join(nome_arquivo.split(\"_\")[:3]).replace(\".zip\", \"\").lower() + \".zip\"\n",
    "        \n",
    "        existe_arquivo = os.path.isfile(pasta_microdados + nome_arquivo)\n",
    "        \n",
    "        if not download_novamente:\n",
    "            if (existe_arquivo):\n",
    "                print(\"Arquivo '{}' já se encontra no diretório.\".format(nome_arquivo), end=\"\\n\")\n",
    "                print(\"Caso deseje baixar novamente, descomente a célula abaixo\".format(nome_arquivo), end=\"\\n\")\n",
    "                print(\"-\" * 90)\n",
    "                continue\n",
    "\n",
    "        download_arquivo(url, pasta_microdados, nome_arquivo)"
   ]
  },
  {
   "cell_type": "code",
   "execution_count": 5,
   "id": "660b974f",
   "metadata": {},
   "outputs": [
    {
     "name": "stdout",
     "output_type": "stream",
     "text": [
      "\n",
      "Arquivo microdados_enade_2017.zip salvo com sucesso.         \n",
      "\n",
      "Arquivo microdados_enade_2018.zip salvo com sucesso.         \n",
      "\n",
      "Arquivo microdados_enade_2019.zip salvo com sucesso.         \n"
     ]
    }
   ],
   "source": [
    "download_microdados_enade(download_novamente = True)"
   ]
  },
  {
   "cell_type": "markdown",
   "id": "93d3956e",
   "metadata": {},
   "source": [
    "## Download Conceito ENADE"
   ]
  },
  {
   "cell_type": "code",
   "execution_count": 6,
   "id": "e2f44658",
   "metadata": {},
   "outputs": [],
   "source": [
    "# Funcao para baixar os dados do conceito ENADE dos anos 2017, 2018 e 2019\n",
    "\n",
    "def download_conceito_enade(download_novamente = False):\n",
    "    \n",
    "    # Links para download dos microdados\n",
    "    url_conceito_2019 = \"https://download.inep.gov.br/educacao_superior/indicadores/resultados/2019/Conceito_Enade_2019.xlsx\"\n",
    "    url_conceito_2018 = \"https://download.inep.gov.br/educacao_superior/indicadores/legislacao/2019/resultados_conceito_enade_2018.xlsx\"\n",
    "    url_conceito_2017 = \"https://download.inep.gov.br/educacao_superior/indicadores/legislacao/2018/resultados_conceito_enade_2017.xlsx\"\n",
    "    urls = [url_conceito_2017, url_conceito_2018, url_conceito_2019]\n",
    "    \n",
    "    pasta_microdados = diretorio_dados + \"Conceito_ENADE\\\\\"\n",
    "    \n",
    "    for url in urls:\n",
    "        print(\"\\n\", end = \"\\r\")\n",
    "        nome_arquivo = url.split(\"/\")[-1] \n",
    "        nome_arquivo = nome_arquivo.replace(\"resultados_\",\"\").lower()\n",
    "        existe_arquivo = os.path.isfile(pasta_microdados + nome_arquivo)\n",
    "        \n",
    "        if not download_novamente:\n",
    "            if (existe_arquivo):\n",
    "                print(\"Arquivo '{}' já se encontra no diretório.\".format(nome_arquivo), end=\"\\n\")\n",
    "                print(\"Caso deseje baixar novamente, descomente a célula abaixo\".format(nome_arquivo), end=\"\\n\")\n",
    "                print(\"-\" * 90)\n",
    "                continue\n",
    "\n",
    "        download_arquivo(url, pasta_microdados, nome_arquivo)"
   ]
  },
  {
   "cell_type": "code",
   "execution_count": 7,
   "id": "b90b5c95",
   "metadata": {},
   "outputs": [
    {
     "name": "stdout",
     "output_type": "stream",
     "text": [
      "\n",
      "Arquivo conceito_enade_2017.xlsx salvo com sucesso.         \n",
      "\n",
      "Arquivo conceito_enade_2018.xlsx salvo com sucesso.         \n",
      "\n",
      "Arquivo conceito_enade_2019.xlsx salvo com sucesso.         \n"
     ]
    }
   ],
   "source": [
    "download_conceito_enade(download_novamente = True)"
   ]
  }
 ],
 "metadata": {
  "kernelspec": {
   "display_name": "Python 3",
   "language": "python",
   "name": "python3"
  },
  "language_info": {
   "codemirror_mode": {
    "name": "ipython",
    "version": 3
   },
   "file_extension": ".py",
   "mimetype": "text/x-python",
   "name": "python",
   "nbconvert_exporter": "python",
   "pygments_lexer": "ipython3",
   "version": "3.8.8"
  }
 },
 "nbformat": 4,
 "nbformat_minor": 5
}
