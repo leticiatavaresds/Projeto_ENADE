{
 "cells": [
  {
   "cell_type": "code",
   "execution_count": 1,
   "id": "4bc2f4c6",
   "metadata": {
    "run_control": {
     "marked": true
    }
   },
   "outputs": [],
   "source": [
    "# Python versão 3.8.8\n",
    "# Windows 10\n",
    "\n",
    "# biblioteca para interação com o sistema\n",
    "import os\n",
    "import shutil\n",
    "\n",
    "# biblioteca para manipulação de dados\n",
    "import pandas as pd # versão 1.3.2\n",
    "import numpy as np # versão 1.20.1\n",
    "\n",
    "# biblioteca para manipulação de banco de dados sqlite\n",
    "import sqlite3 # versão 2.6.0\n",
    "from sqlite3 import Error\n",
    "\n",
    "import researchpy as rp\n",
    "\n",
    "# biblioteca para visualização\n",
    "import plotly.express as px # versão 5.3.1\n",
    "import seaborn as sns # versão 0.11.1\n",
    "\n",
    "import plotly.express as px\n",
    "import plotly.figure_factory as ff\n",
    "\n",
    "import warnings\n",
    "warnings.filterwarnings('ignore', category=UserWarning, module='openpyxl')\n",
    "\n",
    "import matplotlib.pyplot as plt  # versão 3.3.4"
   ]
  },
  {
   "cell_type": "code",
   "execution_count": 2,
   "id": "a53e8153",
   "metadata": {},
   "outputs": [],
   "source": [
    "from matplotlib import rcParams\n",
    "%matplotlib inline\n",
    "\n",
    "from sklearn.tree import DecisionTreeClassifier # Importa o classificador de árvore de decisão\n",
    "from sklearn import metrics #Importa métrica para calcular acurácia - módulo do scikit-learn\n",
    "from sklearn.model_selection import train_test_split\n",
    "from sklearn.tree import export_graphviz\n",
    "from sklearn.model_selection import KFold  \n",
    "from IPython.display import Image  "
   ]
  },
  {
   "cell_type": "code",
   "execution_count": 3,
   "id": "4b87b7c4",
   "metadata": {},
   "outputs": [],
   "source": [
    "#bibliotecas necessárias\n",
    "import pandas as pd\n",
    "import numpy as np\n",
    "import matplotlib.pyplot as plt\n",
    "import seaborn as sns\n",
    "from math import sqrt\n",
    "from sklearn.neighbors import KNeighborsRegressor\n",
    "from sklearn.linear_model import LinearRegression\n",
    "from sklearn.ensemble import RandomForestRegressor\n",
    "from sklearn.model_selection import train_test_split\n",
    "from sklearn.metrics import mean_squared_error,mean_absolute_error\n",
    "\n",
    "from sklearn.metrics import classification_report\n",
    "\n",
    "from sklearn.datasets import make_classification\n",
    "from sklearn.metrics import plot_confusion_matrix\n",
    "from sklearn.svm import SVC\n",
    "\n",
    "from sklearn import metrics "
   ]
  },
  {
   "cell_type": "code",
   "execution_count": 4,
   "id": "651c2677",
   "metadata": {},
   "outputs": [],
   "source": [
    "from category_encoders import TargetEncoder"
   ]
  },
  {
   "cell_type": "code",
   "execution_count": 5,
   "id": "f87b6ed2",
   "metadata": {},
   "outputs": [],
   "source": [
    "# Endereço do diretório onde se encontra o script python\n",
    "diretorio_atual = os.path.dirname(os.path.realpath('__file__')) + \"\\\\\"\n",
    "\n",
    "# Nome do Banco de Dados de onde serão importadas as tabelas\n",
    "nome_bd = \"Enade_DW.sqlite\""
   ]
  },
  {
   "cell_type": "code",
   "execution_count": 6,
   "id": "b3ed0433",
   "metadata": {},
   "outputs": [],
   "source": [
    "def nova_conexao(path, nome_bd):\n",
    "\n",
    "    conec_bd = None\n",
    "    try:\n",
    "        conec_bd = sqlite3.connect(path + nome_bd)\n",
    "\n",
    "    except Error as erro:\n",
    "        print(erro)\n",
    "        return 0\n",
    "    \n",
    "    finally:\n",
    "        if conec_bd:\n",
    "            conec_bd.close()\n",
    "    return 1"
   ]
  },
  {
   "cell_type": "code",
   "execution_count": 7,
   "id": "2c05ce39",
   "metadata": {},
   "outputs": [],
   "source": [
    "#Definindo função para plotar grafico de comparação\n",
    "def grafico(previsto,real,nome):\n",
    "    previsto = np.array(previsto)\n",
    "    real = np.array(real)\n",
    "    \n",
    "    mape = mean_absolute_error(real,previsto)\n",
    "    \n",
    "    y1 = previsto[:50]\n",
    "    x1 = range(len(y1))\n",
    "    y2 = real[:50]\n",
    "    x2 = range(len(y2))\n",
    "    \n",
    "\n",
    "    plt.title('Gráfico de Predições:'+nome)\n",
    "    plt.xlabel('mape: '+str(mape))\n",
    "    plt.ylabel('Valores')\n",
    "\n",
    "    plt.plot(x1,y1,color='#D90286',linestyle='--',label='Predita')\n",
    "    plt.plot(x2,y2,color='#0864AD',linestyle='-.', label = 'Esperada')\n",
    "    plt.legend()\n",
    "    plt.show()"
   ]
  },
  {
   "cell_type": "code",
   "execution_count": 8,
   "id": "becf8a5b",
   "metadata": {
    "run_control": {
     "marked": true
    }
   },
   "outputs": [
    {
     "name": "stdout",
     "output_type": "stream",
     "text": [
      "Conexão ao banco 'Enade_DW.sqlite' criada com sucesso.\n",
      "\n",
      "------------------------------------------------------------------------------------------\n",
      "Tabelas importadas com Sucesso.DadosEnade_DW.sqlite...\n",
      "                     \n",
      "------------------------------------------------------------------------------------------\n",
      "Conexão ao banco 'Enade_DW.sqlite' encerrada com sucesso.\n",
      "\n"
     ]
    }
   ],
   "source": [
    "# Ininia a Conexão\n",
    "if (nova_conexao(diretorio_atual,  nome_bd)):\n",
    "    conec_bd = sqlite3.connect(diretorio_atual + nome_bd)\n",
    "    cursor = conec_bd.cursor()\n",
    "    print(\"Conexão ao banco '{}' criada com sucesso.\\n\".format(nome_bd))\n",
    "    print(\"-\" * 90)\n",
    "    conec_bd.commit()\n",
    "\n",
    "# Importa tabelas do Banco de Dados\n",
    "print(f\"Importando tabelas do Banco de Dados{nome_bd}...\", end=\"\\r\", flush=True)\n",
    "\n",
    "dim_aluno_econ = pd.read_sql_query('SELECT * FROM DIM_ALUNO_ECON ', conec_bd, index_col ='ID_ALUNO_ECONOMICO')\n",
    "dim_curso = pd.read_sql_query('SELECT * FROM DIM_CURSO ', conec_bd, index_col ='ID_CURSO')\n",
    "dim_ensino_medio = pd.read_sql_query('SELECT * FROM DIM_ENSINO_MEDIO ', conec_bd, index_col ='ID_ALUNO_ENSINO_MEDIO')\n",
    "dim_formacao_familiares = pd.read_sql_query('SELECT * FROM DIM_FORMACAO_FAMILIARES ', conec_bd, index_col ='ID_FORMACAO_FAMILIA')\n",
    "dim_ies = pd.read_sql_query('SELECT * FROM DIM_IES ', conec_bd, index_col ='ID_IES_ANO')\n",
    "dim_info_aluno = pd.read_sql_query('SELECT * FROM DIM_INFO_ALUNO ', conec_bd, index_col ='ID_ALUNO_INFO')\n",
    "dim_oportunidades = pd.read_sql_query('SELECT * FROM DIM_OPORTUNIDADES ', conec_bd, index_col ='ID_OPORTUNIDADES')\n",
    "dim_percepcao_prova = pd.read_sql_query('SELECT * FROM DIM_PERCEPCAO_PROVA ', conec_bd, index_col ='ID_PERCEPCAO_PROVA')\n",
    "dim_presenca = pd.read_sql_query('SELECT * FROM DIM_PRESENCA ', conec_bd, index_col ='ID_PRESENCA')\n",
    "dim_regiao = pd.read_sql_query('SELECT * FROM DIM_REGIAO ', conec_bd, index_col ='CO_MUNIC_CURSO')\n",
    "dim_tempo = pd.read_sql_query('SELECT * FROM DIM_TEMPO ', conec_bd, index_col ='ID_TEMPO')\n",
    "fato_prova = pd.read_sql_query('SELECT * FROM FATO_PROVA ', conec_bd, index_col ='ID_PROVA')\n",
    "\n",
    "print(f\"Tabelas importadas com Sucesso.\\n                     \")\n",
    "print(\"-\" * 90)\n",
    "\n",
    "# Encerra a Conexão\n",
    "conec_bd.close()\n",
    "print(f\"Conexão ao banco '{nome_bd}' encerrada com sucesso.\\n\")"
   ]
  },
  {
   "cell_type": "code",
   "execution_count": 9,
   "id": "57bbe41e",
   "metadata": {},
   "outputs": [],
   "source": [
    "# União de todas as dimensões com a Tabela Fato\n",
    "df_completo = fato_prova.merge(dim_info_aluno, how = \"left\", left_on = \"ID_ALUNO_INFO\" , right_index = True)\n",
    "\n",
    "df_completo = df_completo.merge(dim_aluno_econ, how = 'left', left_on = 'ID_ALUNO_ECONOMICO' , right_index = True)\n",
    "df_completo = df_completo.merge(dim_curso, how = 'left', left_on = 'ID_CURSO' , right_index = True)\n",
    "df_completo = df_completo.merge(dim_ensino_medio, how = 'left', left_on = 'ID_ALUNO_ENSINO_MEDIO' , right_index = True)\n",
    "df_completo = df_completo.merge(dim_formacao_familiares, how = 'left', left_on = 'ID_FORMACAO_FAMILIA' , right_index = True)\n",
    "df_completo = df_completo.merge(dim_ies, how = 'left', left_on = 'ID_IES_ANO' , right_index = True)\n",
    "df_completo = df_completo.merge(dim_oportunidades, how = 'left', left_on = 'ID_OPORTUNIDADES' , right_index = True)\n",
    "df_completo = df_completo.merge(dim_percepcao_prova, how = 'left', left_on = 'ID_PERCEPCAO_PROVA' , right_index = True)\n",
    "df_completo = df_completo.merge(dim_presenca, how = 'left', left_on = 'ID_PRESENCA' , right_index = True)\n",
    "df_completo = df_completo.merge(dim_regiao, how = 'left', left_on = 'CO_MUNIC_CURSO' , right_index = True)\n",
    "df_completo = df_completo.merge(dim_tempo, how = 'left', left_on = 'ID_TEMPO' , right_index = True)"
   ]
  },
  {
   "cell_type": "code",
   "execution_count": 10,
   "id": "215189a7",
   "metadata": {},
   "outputs": [],
   "source": [
    "# Remoção das colunas Chaves\n",
    "df_completo = df_completo.drop(['ID_ALUNO_ECONOMICO',\n",
    "                                'ID_CURSO',\n",
    "                                'ID_ALUNO_ENSINO_MEDIO',\n",
    "                                'ID_FORMACAO_FAMILIA',\n",
    "                                'ID_IES_ANO',\n",
    "                                'ID_ALUNO_INFO',\n",
    "                                'ID_OPORTUNIDADES',\n",
    "                                'ID_PERCEPCAO_PROVA',\n",
    "                                'ID_PRESENCA',\n",
    "                                'CO_MUNIC_CURSO',\n",
    "                                'ID_TEMPO'], axis = 1)"
   ]
  },
  {
   "cell_type": "code",
   "execution_count": 11,
   "id": "61414e3f",
   "metadata": {},
   "outputs": [
    {
     "data": {
      "text/plain": [
       "(1291771, 42)"
      ]
     },
     "execution_count": 11,
     "metadata": {},
     "output_type": "execute_result"
    }
   ],
   "source": [
    "df_completo.shape"
   ]
  },
  {
   "cell_type": "code",
   "execution_count": 12,
   "id": "cd4a3a8e",
   "metadata": {},
   "outputs": [],
   "source": [
    "df_completo_backup = df_completo.copy()"
   ]
  },
  {
   "cell_type": "markdown",
   "id": "1d88bbcb",
   "metadata": {},
   "source": [
    "# Modelos"
   ]
  },
  {
   "cell_type": "code",
   "execution_count": 13,
   "id": "c910acba",
   "metadata": {},
   "outputs": [],
   "source": [
    "from sklearn.ensemble import RandomForestClassifier"
   ]
  },
  {
   "cell_type": "code",
   "execution_count": 14,
   "id": "76d73648",
   "metadata": {},
   "outputs": [],
   "source": [
    "df_completo = df_completo_backup.copy()"
   ]
  },
  {
   "cell_type": "markdown",
   "id": "194bba7c",
   "metadata": {},
   "source": [
    "### Tempo de Prova"
   ]
  },
  {
   "cell_type": "code",
   "execution_count": 15,
   "id": "53e6abac",
   "metadata": {},
   "outputs": [],
   "source": [
    "dicionario_resposta = {'Não respondeu ' : 1.5,\n",
    "                         \"Resposta anulada\": 2}\n",
    "\n",
    "df_completo = df_completo.replace({\"TEMPO_GASTO_PROVA\": dicionario_resposta})\n",
    "df_completo.TEMPO_GASTO_PROVA = df_completo.TEMPO_GASTO_PROVA.astype(float)"
   ]
  },
  {
   "cell_type": "markdown",
   "id": "9256c5f3",
   "metadata": {},
   "source": [
    "### Horas de Trabalho"
   ]
  },
  {
   "cell_type": "code",
   "execution_count": 16,
   "id": "958b056d",
   "metadata": {},
   "outputs": [],
   "source": [
    "dicionario_resposta = {'Trabalho 40 horas semanais ou mais.' : 40,\n",
    "                       'Trabalho até 20 horas semanais.': 20,\n",
    "                       'Não estou trabalhando.': 0,\n",
    "                       'Trabalho de 21 a 39 horas semanais.': 30,\n",
    "                       'Trabalho eventualmente.': 5\n",
    "                      }\n",
    "\n",
    "df_completo = df_completo.replace({\"HORAS_TRABALHO\": dicionario_resposta})\n",
    "df_completo.HORAS_TRABALHO = df_completo.HORAS_TRABALHO.astype(float)"
   ]
  },
  {
   "cell_type": "markdown",
   "id": "dd9a9252",
   "metadata": {},
   "source": [
    "### Avaliacao CE"
   ]
  },
  {
   "cell_type": "code",
   "execution_count": 17,
   "id": "d226f493",
   "metadata": {},
   "outputs": [],
   "source": [
    "dicionario_resposta = {'Resposta anulada': 0,\n",
    "                       'Muito difícil': 0,\n",
    "                       'Difícil': 3,\n",
    "                       'Não respondeu ': 2,\n",
    "                       'Médio': 5,\n",
    "                       'Fácil': 6,\n",
    "                       'Muito fácil': 1\n",
    "                      }\n",
    "\n",
    "df_completo = df_completo.replace({\"GRAU_DIFICULDADE_CE\": dicionario_resposta})\n",
    "df_completo.GRAU_DIFICULDADE_CE = df_completo.GRAU_DIFICULDADE_CE.astype(float)\n",
    "\n",
    "df_completo = df_completo.replace({\"GRAU_DIFICULDADE_FG\": dicionario_resposta})\n",
    "df_completo.GRAU_DIFICULDADE_FG = df_completo.GRAU_DIFICULDADE_FG.astype(float)"
   ]
  },
  {
   "cell_type": "markdown",
   "id": "d6d5d9fe",
   "metadata": {},
   "source": [
    "### Moram Junto"
   ]
  },
  {
   "cell_type": "code",
   "execution_count": 18,
   "id": "6d127256",
   "metadata": {},
   "outputs": [],
   "source": [
    "dicionario_resposta = {'Nenhuma': 0,\n",
    "                       'Uma': 1,\n",
    "                       'Duas': 2,\n",
    "                       'Três': 3,\n",
    "                       'Quatro': 4,\n",
    "                       'Cinco': 5,\n",
    "                       'Seis': 6,\n",
    "                       'Sete ou mais': 9\n",
    "                      }\n",
    "\n",
    "df_completo = df_completo.replace({\"PESSOAS_MORAM_JUNTO\": dicionario_resposta})\n",
    "df_completo.PESSOAS_MORAM_JUNTO = df_completo.PESSOAS_MORAM_JUNTO.astype(float)\n"
   ]
  },
  {
   "cell_type": "markdown",
   "id": "60473e04",
   "metadata": {},
   "source": [
    "### Renda Familiar"
   ]
  },
  {
   "cell_type": "code",
   "execution_count": 19,
   "id": "06da976a",
   "metadata": {},
   "outputs": [],
   "source": [
    "dicionario_resposta = {'Até 1,5 salário mínimo': 0.8,\n",
    "                       'De 1,5 a 3 salários mínimos': 2,\n",
    "                       'De 3 a 4,5 salários mínimos': 3.5,\n",
    "                       'De 4,5 a 6 salários mínimos': 5,\n",
    "                       'De 6 a 10 salários mínimos': 7.5,\n",
    "                       'De 10 a 30 salários mínimos': 20,\n",
    "                       'Acima de 30 salários mínimos': 35\n",
    "                      }\n",
    "\n",
    "\n",
    "df_completo = df_completo.replace({\"RENDA_FAMILIAR\": dicionario_resposta})\n",
    "df_completo.RENDA_FAMILIAR = df_completo.RENDA_FAMILIAR.astype(float)"
   ]
  },
  {
   "cell_type": "markdown",
   "id": "1a6800af",
   "metadata": {},
   "source": [
    "### Renda Familiar Per Capita"
   ]
  },
  {
   "cell_type": "code",
   "execution_count": 20,
   "id": "bc05c8a5",
   "metadata": {},
   "outputs": [],
   "source": [
    "df_completo[\"RENDA_PER_CAPITA\"] = df_completo.RENDA_FAMILIAR/(df_completo.PESSOAS_MORAM_JUNTO +1)"
   ]
  },
  {
   "cell_type": "markdown",
   "id": "b13ffcee",
   "metadata": {},
   "source": [
    "### Familiar Graduado"
   ]
  },
  {
   "cell_type": "code",
   "execution_count": 21,
   "id": "23625f6d",
   "metadata": {},
   "outputs": [],
   "source": [
    "df_completo['FAMILIAR_GRADUADO'] = np.where(df_completo['FAMILIAR_GRADUADO'] == 'Sim', 1, 0)"
   ]
  },
  {
   "cell_type": "markdown",
   "id": "fa6fe4f2",
   "metadata": {},
   "source": [
    "### Modalidade"
   ]
  },
  {
   "cell_type": "code",
   "execution_count": 22,
   "id": "625247f7",
   "metadata": {},
   "outputs": [],
   "source": [
    "df_completo['MODALIDADE_CURSO'] = np.where(df_completo['MODALIDADE_CURSO'] == 'Educação Presencial', 1, 0)\n",
    "\n",
    "df_completo.MODALIDADE_CURSO = df_completo.MODALIDADE_CURSO.astype(int)"
   ]
  },
  {
   "cell_type": "markdown",
   "id": "fb91021d",
   "metadata": {},
   "source": [
    "### Naturalidade"
   ]
  },
  {
   "cell_type": "code",
   "execution_count": 23,
   "id": "53bbd378",
   "metadata": {},
   "outputs": [],
   "source": [
    "df_completo['NACIONALIDADE'] = np.where(df_completo['NACIONALIDADE'] == 'Brasileira', 1, 0)\n",
    "\n",
    "df_completo.NACIONALIDADE = df_completo.NACIONALIDADE.astype(int)"
   ]
  },
  {
   "cell_type": "markdown",
   "id": "acf7b118",
   "metadata": {},
   "source": [
    "### Colunas Categóricas Restantes - Mean Encoding"
   ]
  },
  {
   "cell_type": "code",
   "execution_count": 24,
   "id": "f5f82f29",
   "metadata": {},
   "outputs": [],
   "source": [
    "# Enconding da coluna TP_SEXO\n",
    "encoder = TargetEncoder()\n",
    "df_completo['TP_SEXO'] = encoder.fit_transform(df_completo['TP_SEXO'], df_completo['NT_GER'])\n",
    "df_completo['TP_SEXO'] = encoder.fit_transform(df_completo['TP_SEXO'], df_completo['NT_GER'])\n",
    "\n",
    "# Enconding da coluna ESTADO_CIVIL\n",
    "encoder = TargetEncoder()\n",
    "df_completo['ESTADO_CIVIL'] = encoder.fit_transform(df_completo['ESTADO_CIVIL'], df_completo['NT_GER'])\n",
    "df_completo['ESTADO_CIVIL'] = encoder.fit_transform(df_completo['ESTADO_CIVIL'], df_completo['NT_GER'])\n",
    "\n",
    "# Enconding da coluna RAÇA\n",
    "encoder = TargetEncoder()\n",
    "df_completo['RAÇA'] = encoder.fit_transform(df_completo['RAÇA'], df_completo['NT_GER'])\n",
    "df_completo['RAÇA'] = encoder.fit_transform(df_completo['RAÇA'], df_completo['NT_GER'])\n",
    "\n",
    "# Enconding da coluna AUXILIO_RECEBIDO\n",
    "encoder = TargetEncoder()\n",
    "df_completo['AUXILIO_RECEBIDO'] = encoder.fit_transform(df_completo['AUXILIO_RECEBIDO'], df_completo['NT_GER'])\n",
    "df_completo['AUXILIO_RECEBIDO'] = encoder.fit_transform(df_completo['AUXILIO_RECEBIDO'], df_completo['NT_GER'])\n",
    "\n",
    "# Enconding da coluna ENTROU_POR_COTA\n",
    "encoder = TargetEncoder()\n",
    "df_completo['ENTROU_POR_COTA'] = encoder.fit_transform(df_completo['ENTROU_POR_COTA'], df_completo['NT_GER'])\n",
    "df_completo['ENTROU_POR_COTA'] = encoder.fit_transform(df_completo['ENTROU_POR_COTA'], df_completo['NT_GER'])\n",
    "\n",
    "# Enconding da coluna GRUPO_CURSO\n",
    "encoder = TargetEncoder()\n",
    "df_completo['GRUPO_CURSO'] = encoder.fit_transform(df_completo['GRUPO_CURSO'], df_completo['NT_GER'])\n",
    "df_completo['GRUPO_CURSO'] = encoder.fit_transform(df_completo['GRUPO_CURSO'], df_completo['NT_GER'])\n",
    "\n",
    "# Enconding da coluna TIPO_ESCOLA_EM\n",
    "encoder = TargetEncoder()\n",
    "df_completo['TIPO_ESCOLA_EM'] = encoder.fit_transform(df_completo['TIPO_ESCOLA_EM'], df_completo['NT_GER'])\n",
    "df_completo['TIPO_ESCOLA_EM'] = encoder.fit_transform(df_completo['TIPO_ESCOLA_EM'], df_completo['NT_GER'])\n",
    "\n",
    "# Enconding da coluna MODALIDADE_EM\n",
    "encoder = TargetEncoder()\n",
    "df_completo['MODALIDADE_EM'] = encoder.fit_transform(df_completo['MODALIDADE_EM'], df_completo['NT_GER'])\n",
    "df_completo['MODALIDADE_EM'] = encoder.fit_transform(df_completo['MODALIDADE_EM'], df_completo['NT_GER'])\n",
    "\n",
    "# Enconding da coluna ESCOLARIZACAO_PAI\n",
    "encoder = TargetEncoder()\n",
    "df_completo['ESCOLARIZACAO_PAI'] = encoder.fit_transform(df_completo['ESCOLARIZACAO_PAI'], df_completo['NT_GER'])\n",
    "df_completo['ESCOLARIZACAO_PAI'] = encoder.fit_transform(df_completo['ESCOLARIZACAO_PAI'], df_completo['NT_GER'])\n",
    "\n",
    "# Enconding da coluna ESCOLARIZACAO_MAE\n",
    "encoder = TargetEncoder()\n",
    "df_completo['ESCOLARIZACAO_MAE'] = encoder.fit_transform(df_completo['ESCOLARIZACAO_MAE'], df_completo['NT_GER'])\n",
    "df_completo['ESCOLARIZACAO_MAE'] = encoder.fit_transform(df_completo['ESCOLARIZACAO_MAE'], df_completo['NT_GER'])\n",
    "\n",
    "# Enconding da coluna NOME_IES\n",
    "encoder = TargetEncoder()\n",
    "df_completo['NOME_IES'] = encoder.fit_transform(df_completo['NOME_IES'], df_completo['NT_GER'])\n",
    "df_completo['NOME_IES'] = encoder.fit_transform(df_completo['NOME_IES'], df_completo['NT_GER'])\n",
    "\n",
    "# Enconding da coluna CATEGORIA_IES\n",
    "encoder = TargetEncoder()\n",
    "df_completo['CATEGORIA_IES'] = encoder.fit_transform(df_completo['CATEGORIA_IES'], df_completo['NT_GER'])\n",
    "df_completo['CATEGORIA_IES'] = encoder.fit_transform(df_completo['CATEGORIA_IES'], df_completo['NT_GER'])\n",
    "\n",
    "# Enconding da coluna ORGANIZACAO_IES\n",
    "encoder = TargetEncoder()\n",
    "df_completo['ORGANIZACAO_IES'] = encoder.fit_transform(df_completo['ORGANIZACAO_IES'], df_completo['NT_GER'])\n",
    "df_completo['ORGANIZACAO_IES'] = encoder.fit_transform(df_completo['ORGANIZACAO_IES'], df_completo['NT_GER'])\n",
    "\n",
    "# Enconding da coluna ATIVIDADES_CURRICURALES_EXTERIOR\n",
    "encoder = TargetEncoder()\n",
    "df_completo['ATIVIDADES_CURRICURALES_EXTERIOR'] = encoder.fit_transform(df_completo['ATIVIDADES_CURRICURALES_EXTERIOR'], df_completo['NT_GER'])\n",
    "df_completo['ATIVIDADES_CURRICURALES_EXTERIOR'] = encoder.fit_transform(df_completo['ATIVIDADES_CURRICURALES_EXTERIOR'], df_completo['NT_GER'])\n",
    "\n",
    "# Enconding da coluna IDIOMA_ESTRANGEIRO\n",
    "encoder = TargetEncoder()\n",
    "df_completo['IDIOMA_ESTRANGEIRO'] = encoder.fit_transform(df_completo['IDIOMA_ESTRANGEIRO'], df_completo['NT_GER'])\n",
    "df_completo['IDIOMA_ESTRANGEIRO'] = encoder.fit_transform(df_completo['IDIOMA_ESTRANGEIRO'], df_completo['NT_GER'])\n",
    "\n",
    "# Enconding da coluna EXTENSAO_UNIVERSITARIA\n",
    "encoder = TargetEncoder()\n",
    "df_completo['EXTENSAO_UNIVERSITARIA'] = encoder.fit_transform(df_completo['EXTENSAO_UNIVERSITARIA'], df_completo['NT_GER'])\n",
    "df_completo['EXTENSAO_UNIVERSITARIA'] = encoder.fit_transform(df_completo['EXTENSAO_UNIVERSITARIA'], df_completo['NT_GER'])\n",
    "\n",
    "# Enconding da coluna ATIVIDADES_INVESTIGACAO_ACADEMICA\n",
    "encoder = TargetEncoder()\n",
    "df_completo['ATIVIDADES_INVESTIGACAO_ACADEMICA'] = encoder.fit_transform(df_completo['ATIVIDADES_INVESTIGACAO_ACADEMICA'], df_completo['NT_GER'])\n",
    "df_completo['ATIVIDADES_INVESTIGACAO_ACADEMICA'] = encoder.fit_transform(df_completo['ATIVIDADES_INVESTIGACAO_ACADEMICA'], df_completo['NT_GER'])\n",
    "\n",
    "# Enconding da coluna INTERCAMBIO_ESTAGIO_PAIS\n",
    "encoder = TargetEncoder()\n",
    "df_completo['INTERCAMBIO_ESTAGIO_PAIS'] = encoder.fit_transform(df_completo['INTERCAMBIO_ESTAGIO_PAIS'], df_completo['NT_GER'])\n",
    "df_completo['INTERCAMBIO_ESTAGIO_PAIS'] = encoder.fit_transform(df_completo['INTERCAMBIO_ESTAGIO_PAIS'], df_completo['NT_GER'])\n",
    "\n",
    "# Enconding da coluna INTERCAMBIO_ESTAGIO_FORA_DO_PAIS\n",
    "encoder = TargetEncoder()\n",
    "df_completo['INTERCAMBIO_ESTAGIO_FORA_DO_PAIS'] = encoder.fit_transform(df_completo['INTERCAMBIO_ESTAGIO_FORA_DO_PAIS'], df_completo['NT_GER'])\n",
    "df_completo['INTERCAMBIO_ESTAGIO_FORA_DO_PAIS'] = encoder.fit_transform(df_completo['INTERCAMBIO_ESTAGIO_FORA_DO_PAIS'], df_completo['NT_GER'])\n",
    "\n",
    "# Enconding da coluna PERCEPCAO_ESTUDO_CONTEUDO\n",
    "encoder = TargetEncoder()\n",
    "df_completo['PERCEPCAO_ESTUDO_CONTEUDO'] = encoder.fit_transform(df_completo['PERCEPCAO_ESTUDO_CONTEUDO'], df_completo['NT_GER'])\n",
    "df_completo['PERCEPCAO_ESTUDO_CONTEUDO'] = encoder.fit_transform(df_completo['PERCEPCAO_ESTUDO_CONTEUDO'], df_completo['NT_GER'])\n",
    "\n",
    "# Enconding da coluna NOME_MUNICIPIO\n",
    "encoder = TargetEncoder()\n",
    "df_completo['NOME_MUNICIPIO'] = encoder.fit_transform(df_completo['NOME_MUNICIPIO'], df_completo['NT_GER'])\n",
    "df_completo['NOME_MUNICIPIO'] = encoder.fit_transform(df_completo['NOME_MUNICIPIO'], df_completo['NT_GER'])\n",
    "\n",
    "# Enconding da coluna UF\n",
    "encoder = TargetEncoder()\n",
    "df_completo['UF'] = encoder.fit_transform(df_completo['UF'], df_completo['NT_GER'])\n",
    "df_completo['UF'] = encoder.fit_transform(df_completo['UF'], df_completo['NT_GER'])\n",
    "\n",
    "# Enconding da coluna REGIAO_CURSO\n",
    "encoder = TargetEncoder()\n",
    "df_completo['REGIAO_CURSO'] = encoder.fit_transform(df_completo['REGIAO_CURSO'], df_completo['NT_GER'])\n",
    "df_completo['REGIAO_CURSO'] = encoder.fit_transform(df_completo['REGIAO_CURSO'], df_completo['NT_GER'])"
   ]
  },
  {
   "cell_type": "markdown",
   "id": "1c187ca1",
   "metadata": {},
   "source": [
    "### NOTA MAIOR QUE A NOTA MÉDIA DO ANO"
   ]
  },
  {
   "cell_type": "code",
   "execution_count": 25,
   "id": "92f92abd",
   "metadata": {},
   "outputs": [],
   "source": [
    "df_completo['NOTA_MEDIA_ANO'] = df_completo.groupby(['ANO'])['NT_GER'].transform('mean')\n",
    "df_completo[\"MAIOR_QUE_NOTA_MEDIA_ANO\"] = df_completo['NT_GER'] > df_completo['NOTA_MEDIA_ANO']"
   ]
  },
  {
   "cell_type": "markdown",
   "id": "4974f978",
   "metadata": {},
   "source": [
    "## Modelo - Random Forest"
   ]
  },
  {
   "cell_type": "code",
   "execution_count": 26,
   "id": "e62859b6",
   "metadata": {
    "run_control": {
     "marked": true
    }
   },
   "outputs": [],
   "source": [
    "dataset_modelo = df_completo.select_dtypes(include=[\"number\",\"bool_\"]).drop(['NT_FG', 'NT_CE', 'NT_GER',\n",
    "                                                                             'PESSOAS_MORAM_JUNTO', 'RENDA_FAMILIAR', \n",
    "                                                                             'NOTA_MEDIA_ANO'], axis = 1).copy()"
   ]
  },
  {
   "cell_type": "code",
   "execution_count": 27,
   "id": "84b8b18d",
   "metadata": {},
   "outputs": [],
   "source": [
    "y = dataset_modelo[\"MAIOR_QUE_NOTA_MEDIA_ANO\"]\n",
    "dataset_modelo = dataset_modelo.drop(\"MAIOR_QUE_NOTA_MEDIA_ANO\", \n",
    "                                     axis = 1)"
   ]
  },
  {
   "cell_type": "code",
   "execution_count": 28,
   "id": "89c0a3e6",
   "metadata": {},
   "outputs": [
    {
     "name": "stdout",
     "output_type": "stream",
     "text": [
      "A Acurácia do modelo é de: 0.6946151821517595\n",
      "A Precisão do modelo é de: 0.6983859020516442\n"
     ]
    }
   ],
   "source": [
    "#split de dados\n",
    "x_treino, x_teste, y_treino, y_teste = train_test_split(dataset_modelo, y, test_size  = 0.1, shuffle = True)\n",
    "\n",
    "rfc = RandomForestClassifier(n_estimators = 5, random_state=0, criterion = \"entropy\", max_depth = 11)\n",
    "rfc.fit(x_treino, y_treino)\n",
    "\n",
    "\n",
    "y_pred = rfc.predict(x_teste)\n",
    "\n",
    "acuracia = metrics.accuracy_score(y_teste, y_pred)\n",
    "print(f\"A Acurácia do modelo é de: {acuracia}\")\n",
    "\n",
    "precisao = metrics.precision_score(y_teste, y_pred)\n",
    "print(f\"A Precisão do modelo é de: {precisao}\")"
   ]
  },
  {
   "cell_type": "code",
   "execution_count": 29,
   "id": "aff48053",
   "metadata": {},
   "outputs": [
    {
     "data": {
      "image/png": "[encoded data removed]",
      "text/plain": [
       "<Figure size 504x288 with 1 Axes>"
      ]
     },
     "metadata": {
      "needs_background": "light"
     },
     "output_type": "display_data"
    }
   ],
   "source": [
    "tmp = pd.DataFrame({'Feature': dataset_modelo.columns.to_list(), \n",
    "                    'Importância da feature': rfc.feature_importances_})\n",
    "\n",
    "tmp = tmp.sort_values(by='Importância da feature',ascending=False)\n",
    "plt.figure(figsize = (7,4))\n",
    "plt.title('Importância da feature - Random Forest',fontsize=14)\n",
    "s = sns.barplot(x='Feature',y='Importância da feature',data=tmp)\n",
    "s.set_xticklabels(s.get_xticklabels(),rotation=90)\n",
    "plt.show() "
   ]
  },
  {
   "cell_type": "code",
   "execution_count": 30,
   "id": "e8cd0163",
   "metadata": {},
   "outputs": [
    {
     "data": {
      "image/png": "[encoded data removed]",
      "text/plain": [
       "<Figure size 432x288 with 2 Axes>"
      ]
     },
     "metadata": {
      "needs_background": "light"
     },
     "output_type": "display_data"
    }
   ],
   "source": [
    "plot_confusion_matrix(rfc,  x_teste, y_teste, values_format = '.0f')  \n",
    "plt.show()\n",
    "plt.rcParams[\"figure.figsize\"] = (80,14)"
   ]
  },
  {
   "cell_type": "code",
   "execution_count": 31,
   "id": "f27cf278",
   "metadata": {},
   "outputs": [
    {
     "name": "stdout",
     "output_type": "stream",
     "text": [
      "              precision    recall  f1-score   support\n",
      "\n",
      "       False       0.69      0.74      0.71     66696\n",
      "        True       0.70      0.65      0.67     62482\n",
      "\n",
      "    accuracy                           0.69    129178\n",
      "   macro avg       0.69      0.69      0.69    129178\n",
      "weighted avg       0.69      0.69      0.69    129178\n",
      "\n"
     ]
    }
   ],
   "source": [
    "print(classification_report(y_teste, y_pred))"
   ]
  },
  {
   "cell_type": "code",
   "execution_count": 32,
   "id": "b02fc5c9",
   "metadata": {},
   "outputs": [
    {
     "data": {
      "text/plain": [
       "<sklearn.metrics._plot.roc_curve.RocCurveDisplay at 0x14bde442280>"
      ]
     },
     "execution_count": 32,
     "metadata": {},
     "output_type": "execute_result"
    },
    {
     "data": {
      "image/png": "[encoded data removed]",
      "text/plain": [
       "<Figure size 576x432 with 1 Axes>"
      ]
     },
     "metadata": {
      "needs_background": "light"
     },
     "output_type": "display_data"
    }
   ],
   "source": [
    "plt.rcParams[\"figure.figsize\"] = (8,6)\n",
    "metrics.plot_roc_curve(rfc,  x_teste, y_teste) "
   ]
  },
  {
   "cell_type": "code",
   "execution_count": 33,
   "id": "13a06e70",
   "metadata": {},
   "outputs": [
    {
     "ename": "NameError",
     "evalue": "name 'PAROU' is not defined",
     "output_type": "error",
     "traceback": [
      "\u001b[1;31m---------------------------------------------------------------------------\u001b[0m",
      "\u001b[1;31mNameError\u001b[0m                                 Traceback (most recent call last)",
      "\u001b[1;32m<ipython-input-33-41ad3a3874a3>\u001b[0m in \u001b[0;36m<module>\u001b[1;34m\u001b[0m\n\u001b[1;32m----> 1\u001b[1;33m \u001b[0mPAROU\u001b[0m\u001b[1;33m\u001b[0m\u001b[1;33m\u001b[0m\u001b[0m\n\u001b[0m",
      "\u001b[1;31mNameError\u001b[0m: name 'PAROU' is not defined"
     ]
    }
   ],
   "source": [
    "PAROU"
   ]
  },
  {
   "cell_type": "markdown",
   "id": "6a64a5b3",
   "metadata": {},
   "source": [
    "## Modelo após remoção de Colunas com baixa importancia"
   ]
  },
  {
   "cell_type": "code",
   "execution_count": null,
   "id": "a096e931",
   "metadata": {},
   "outputs": [],
   "source": [
    "tmp[tmp[\"Importância da feature\"]<0.001].Feature.to_list()"
   ]
  },
  {
   "cell_type": "code",
   "execution_count": null,
   "id": "b6744b7f",
   "metadata": {},
   "outputs": [],
   "source": [
    "dataset_modelo_2 = dataset_modelo.drop(['TP_PR_OB_FG', 'FAMILIAR_GRADUADO', 'AUXILIO_RECEBIDO', 'NACIONALIDADE',\n",
    "                                       'TP_PR_OB_FG', 'TP_PR_DI_FG', 'TP_PR_OB_CE', 'TP_PR_DI_CE'], \n",
    "                                     axis = 1)"
   ]
  },
  {
   "cell_type": "code",
   "execution_count": null,
   "id": "4a051fff",
   "metadata": {
    "run_control": {
     "marked": true
    }
   },
   "outputs": [],
   "source": [
    "#split de dados\n",
    "x_treino, x_teste, y_treino, y_teste = train_test_split(dataset_modelo_2, y, test_size  = 0.1, shuffle = True)\n",
    "\n",
    "rfc = RandomForestClassifier(n_estimators = 5, random_state=0, criterion = \"entropy\", max_depth = 11)\n",
    "rfc.fit(x_treino, y_treino)\n",
    "\n",
    "\n",
    "y_pred = rfc.predict(x_teste)\n",
    "\n",
    "acuracia = metrics.accuracy_score(y_teste, y_pred)\n",
    "print(f\"A Acurácia do modelo é de: {acuracia}\")\n",
    "\n",
    "precisao = metrics.precision_score(y_teste, y_pred)\n",
    "print(f\"A Precisão do modelo é de: {precisao}\")"
   ]
  },
  {
   "cell_type": "code",
   "execution_count": null,
   "id": "b82be627",
   "metadata": {},
   "outputs": [],
   "source": [
    "tmp = pd.DataFrame({'Feature': dataset_modelo_2.columns.to_list(), \n",
    "                    'Importância da feature': rfc.feature_importances_})\n",
    "\n",
    "tmp = tmp.sort_values(by='Importância da feature',ascending=False)\n",
    "plt.figure(figsize = (7,4))\n",
    "plt.title('Importância da feature - Random Forest',fontsize=14)\n",
    "s = sns.barplot(x='Feature',y='Importância da feature',data=tmp)\n",
    "s.set_xticklabels(s.get_xticklabels(),rotation=90)\n",
    "plt.show() "
   ]
  },
  {
   "cell_type": "code",
   "execution_count": null,
   "id": "a9509478",
   "metadata": {},
   "outputs": [],
   "source": [
    "plot_confusion_matrix(rfc,  x_teste, y_teste, values_format = '.0f')  \n",
    "plt.show()\n",
    "plt.rcParams[\"figure.figsize\"] = (80,14)"
   ]
  },
  {
   "cell_type": "code",
   "execution_count": null,
   "id": "c6318b66",
   "metadata": {},
   "outputs": [],
   "source": [
    "print(classification_report(y_teste, y_pred))"
   ]
  },
  {
   "cell_type": "code",
   "execution_count": null,
   "id": "d48cff21",
   "metadata": {},
   "outputs": [],
   "source": [
    "plt.rcParams[\"figure.figsize\"] = (8,6)\n",
    "metrics.plot_roc_curve(rfc,  x_teste, y_teste) "
   ]
  },
  {
   "cell_type": "code",
   "execution_count": 35,
   "id": "d3da40f1",
   "metadata": {},
   "outputs": [
    {
     "name": "stdout",
     "output_type": "stream",
     "text": [
      "jupyter core     : 4.7.1\n",
      "jupyter-notebook : 6.3.0\n",
      "qtconsole        : 5.0.3\n",
      "ipython          : 7.22.0\n",
      "ipykernel        : 5.3.4\n",
      "jupyter client   : 6.1.12\n",
      "jupyter lab      : 3.0.14\n",
      "nbconvert        : 6.0.7\n",
      "ipywidgets       : 7.6.3\n",
      "nbformat         : 5.1.3\n",
      "traitlets        : 5.0.5\n"
     ]
    }
   ],
   "source": [
    "!jupyter --version"
   ]
  }
 ],
 "metadata": {
  "kernelspec": {
   "display_name": "Python 3",
   "language": "python",
   "name": "python3"
  },
  "language_info": {
   "codemirror_mode": {
    "name": "ipython",
    "version": 3
   },
   "file_extension": ".py",
   "mimetype": "text/x-python",
   "name": "python",
   "nbconvert_exporter": "python",
   "pygments_lexer": "ipython3",
   "version": "3.8.8"
  }
 },
 "nbformat": 4,
 "nbformat_minor": 5
}
