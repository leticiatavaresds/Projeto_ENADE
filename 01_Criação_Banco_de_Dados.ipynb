{
 "cells": [
  {
   "cell_type": "markdown",
   "id": "67c4b838",
   "metadata": {},
   "source": [
    "# Importação de Bibliotecas"
   ]
  },
  {
   "cell_type": "code",
   "execution_count": 1,
   "id": "6914025a",
   "metadata": {},
   "outputs": [],
   "source": [
    "# Python versão 3.8.8\n",
    "# Windows 10\n",
    "\n",
    "# biblioteca para realizar requisição\n",
    "import requests # versão 2.25.1\n",
    "\n",
    "# biblioteca para interação com o sistema\n",
    "import os\n",
    "import shutil\n",
    "\n",
    "# biblioeca para manipulação de dados\n",
    "import pandas as pd # versão 1.3.2\n",
    "from pandas.api.types import is_integer_dtype, is_object_dtype, is_float_dtype\n",
    "import numpy as np\n",
    "import unidecode\n",
    "\n",
    "from zipfile import ZipFile\n",
    "\n",
    "import warnings\n",
    "warnings.filterwarnings('ignore', category=UserWarning, module='openpyxl')\n",
    "\n",
    "from colorama import Fore, Style # versão 0.4.4\n",
    "\n",
    "import sqlite3"
   ]
  },
  {
   "cell_type": "markdown",
   "id": "2264a7d8",
   "metadata": {},
   "source": [
    "# Variáveis Globais"
   ]
  },
  {
   "cell_type": "code",
   "execution_count": 2,
   "id": "0e09372e",
   "metadata": {},
   "outputs": [],
   "source": [
    "# Endereço do diretório onde se encontra o script python\n",
    "diretorio_atual = os.path.dirname(os.path.realpath('__file__')) + \"\\\\\"\n",
    "\n",
    "# Endereço do diretório onde se encontram os dados\n",
    "diretorio_dados = diretorio_atual + \"Dados\\\\\"\n",
    "\n",
    "# Nome do Banco de Dados que será criado\n",
    "nome_bd = \"Enade_DW.sqlite\"\n",
    "\n",
    "df_2017_importado = pd.DataFrame()\n",
    "df_2018_importado = pd.DataFrame()\n",
    "df_2019_importado = pd.DataFrame()\n",
    "\n",
    "df_cod_cidades_importado = pd.DataFrame()\n",
    "df_dicionario_importado = pd.DataFrame()\n",
    "\n",
    "df_con_2017_importado = pd.DataFrame()\n",
    "df_con_2018_importado = pd.DataFrame()\n",
    "df_con_2019_importado = pd.DataFrame()"
   ]
  },
  {
   "cell_type": "markdown",
   "id": "0a097c21",
   "metadata": {},
   "source": [
    "# Leitura de Dados"
   ]
  },
  {
   "cell_type": "markdown",
   "id": "42182126",
   "metadata": {},
   "source": [
    "## Leitura Microdados Enade"
   ]
  },
  {
   "cell_type": "code",
   "execution_count": 3,
   "id": "618924c6",
   "metadata": {},
   "outputs": [],
   "source": [
    "# Função para ler os microdados dos anos 2017, 2018 e 2019 do ENADE baixados pelo script 00\n",
    "def leitura_microdados():      \n",
    "\n",
    "    global df_2017_importado, df_2018_importado, df_2019_importado, df_enade_2017, df_enade_2018, df_enade_2019\n",
    "    \n",
    "    diretorio_enade = diretorio_dados + \"Microdados_ENADE\\\\\"\n",
    "    \n",
    "    if not len(df_2017_importado):\n",
    "        print(\"Carregando Microdados do ano 2017...\", end=\"\\r\", flush=True)\n",
    "        zip_ano = ZipFile(diretorio_enade + \"microdados_enade_2017.zip\")\n",
    "        arquivo = \"3.DADOS/MICRODADOS_ENADE_2017.txt\"\n",
    "        df_2017_importado  = pd.read_csv(zip_ano.open(arquivo), sep=';', low_memory=False)\n",
    "    \n",
    "    df_enade_2017 = df_2017_importado.copy()\n",
    "    print(f'Microdados do ano 2017 importados com sucesso para a variável {Fore.GREEN}df_enade_2017{Style.RESET_ALL}', end=\"\\n\\n\")  \n",
    "        \n",
    "    if not len(df_2018_importado):\n",
    "        print(\"Carregando Microdados do ano 2018...\", end=\"\\r\", flush=True)\n",
    "        zip_ano = ZipFile(diretorio_enade + \"microdados_enade_2018.zip\")\n",
    "        arquivo = \"2018/3.DADOS/microdados_enade_2018.txt\"\n",
    "        df_2018_importado  = pd.read_csv(zip_ano.open(arquivo), sep=';', low_memory=False)\n",
    "    \n",
    "    df_enade_2018 = df_2018_importado.copy()\n",
    "    print(f'Microdados do ano 2018 importados com sucesso para a variável {Fore.GREEN}df_enade_2018.{Style.RESET_ALL}', end=\"\\n\\n\")  \n",
    "        \n",
    "    if not len(df_2019_importado):\n",
    "        print(\"Carregando Microdados do ano 2019...\", end=\"\\r\", flush=True)\n",
    "        zip_ano = ZipFile(diretorio_enade + \"microdados_enade_2019.zip\")\n",
    "        arquivo = \"3.DADOS/microdados_enade_2019.txt\"\n",
    "        df_2019_importado  = pd.read_csv(zip_ano.open(arquivo), sep=';', low_memory=False)\n",
    "    \n",
    "    df_enade_2019 = df_2019_importado.copy()\n",
    "    print(f'Microdados do ano 2019 importados com sucesso para a variável {Fore.GREEN}df_enade_2019.{Style.RESET_ALL}', end=\"\\n\\n\")     "
   ]
  },
  {
   "cell_type": "code",
   "execution_count": 4,
   "id": "1af6ac8d",
   "metadata": {},
   "outputs": [
    {
     "name": "stdout",
     "output_type": "stream",
     "text": [
      "Microdados do ano 2017 importados com sucesso para a variável \u001b[32mdf_enade_2017\u001b[0m\n",
      "\n",
      "Microdados do ano 2018 importados com sucesso para a variável \u001b[32mdf_enade_2018.\u001b[0m\n",
      "\n",
      "Microdados do ano 2019 importados com sucesso para a variável \u001b[32mdf_enade_2019.\u001b[0m\n",
      "\n"
     ]
    }
   ],
   "source": [
    "leitura_microdados()"
   ]
  },
  {
   "cell_type": "markdown",
   "id": "8a6f1997",
   "metadata": {},
   "source": [
    "## Leitura Códigos Cidades Microdados ENADE"
   ]
  },
  {
   "cell_type": "code",
   "execution_count": 5,
   "id": "fdfb8adb",
   "metadata": {},
   "outputs": [],
   "source": [
    "# Função para ler o dicionário com códigos das cidades do IBGE que se encontra no dicionário dos Microdados\n",
    "# do ENADE baixados pelo script 00\n",
    "\n",
    "def leitura_cod_cidades():\n",
    "    \n",
    "    global df_cod_cidades_importado, df_cod_cidades\n",
    "    diretorio_enade = diretorio_dados + \"Microdados_ENADE\\\\\"\n",
    "    \n",
    "    if not len(df_cod_cidades_importado):\n",
    "        zip_ano = ZipFile(diretorio_enade + \"microdados_enade_2019.zip\")\n",
    "        arquivo = \"1.LEIA-ME/Dicionário de variáveis dos Microdados do Enade 2019.xlsx\"\n",
    "#     print(\"Carregando Microdados do ano {}...\".format(ano), end=\"\\r\", flush=True)\n",
    "\n",
    "        df_cod_cidades_importado  = pd.read_excel(zip_ano.open(arquivo), sheet_name='MUNICÍPIOS', \n",
    "                                                  skiprows = 3, header = 0, usecols = \"B:D\") \n",
    "    \n",
    "    df_cod_cidades = df_cod_cidades_importado.copy()\n",
    "    print(f'Dados dos Códigos das Cidades importados com sucesso para a variável {Fore.GREEN}df_cod_cidades.{Style.RESET_ALL}', end=\"\\n\\n\")     "
   ]
  },
  {
   "cell_type": "code",
   "execution_count": 6,
   "id": "827625ea",
   "metadata": {},
   "outputs": [
    {
     "name": "stdout",
     "output_type": "stream",
     "text": [
      "Dados dos Códigos das Cidades importados com sucesso para a variável \u001b[32mdf_cod_cidades.\u001b[0m\n",
      "\n"
     ]
    }
   ],
   "source": [
    "leitura_cod_cidades()"
   ]
  },
  {
   "cell_type": "markdown",
   "id": "b3be050b",
   "metadata": {},
   "source": [
    "## Leitura Dados Conceito ENADE"
   ]
  },
  {
   "cell_type": "code",
   "execution_count": 7,
   "id": "cea73ae5",
   "metadata": {},
   "outputs": [],
   "source": [
    "def leitura_conceito_ENADE():\n",
    "    \n",
    "    global df_con_2017_importado, df_con_2018_importado, df_con_2019_importado, df_con_2017, df_con_2018, df_con_2019\n",
    "    diretorio_conceito = diretorio_dados + \"Conceito_ENADE\\\\\"\n",
    "    \n",
    "    anos_enade = [\"2017\",\"2018\",\"2019\"]\n",
    "    \n",
    "    for ano in anos_enade:\n",
    "        \n",
    "        if not len(globals()[f'df_con_{ano}_importado']):\n",
    "            \n",
    "            globals()[f'df_con_{ano}_importado'] = pd.read_excel(diretorio_conceito + f'conceito_enade_{ano}.xlsx')\n",
    "\n",
    "        globals()[f'df_con_{ano}'] = globals()[f'df_con_{ano}_importado'].copy()\n",
    "        \n",
    "        print(f'Conceito do ENADE do ano {ano} importado com sucesso para a variável {Fore.GREEN}df_con_{ano}{Style.RESET_ALL}', \n",
    "          end=\"\\n\\n\")  "
   ]
  },
  {
   "cell_type": "code",
   "execution_count": 8,
   "id": "07b1415e",
   "metadata": {},
   "outputs": [
    {
     "name": "stdout",
     "output_type": "stream",
     "text": [
      "Conceito do ENADE do ano 2017 importado com sucesso para a variável \u001b[32mdf_con_2017\u001b[0m\n",
      "\n",
      "Conceito do ENADE do ano 2018 importado com sucesso para a variável \u001b[32mdf_con_2018\u001b[0m\n",
      "\n",
      "Conceito do ENADE do ano 2019 importado com sucesso para a variável \u001b[32mdf_con_2019\u001b[0m\n",
      "\n"
     ]
    }
   ],
   "source": [
    "leitura_conceito_ENADE()"
   ]
  },
  {
   "cell_type": "markdown",
   "id": "9304579f",
   "metadata": {},
   "source": [
    "## Leitura dicionário"
   ]
  },
  {
   "cell_type": "code",
   "execution_count": 9,
   "id": "18a37fc6",
   "metadata": {},
   "outputs": [],
   "source": [
    "def leitura_dicionarios():\n",
    "    \n",
    "    global df_dicionario_importado, df_dicionario\n",
    "    diretorio_enade = diretorio_dados + \"Microdados_ENADE\\\\\"\n",
    "    \n",
    "    if not len(df_dicionario_importado):\n",
    "        zip_ano = ZipFile(diretorio_enade + \"microdados_enade_2017.zip\")\n",
    "        arquivo = \"1.LEIA-ME/Dicionário de variáveis dos Microdados do Enade_Ediç╞o 2017.xlsx\"\n",
    "        \n",
    "        df_dicionario_importado  = pd.read_excel(zip_ano.open(arquivo), sheet_name='DICIONÁRIO', skiprows = 1, \n",
    "                                                 header = 0, usecols = \"B:F\") \n",
    "    \n",
    "    df_dicionario_importado = df_dicionario_importado.dropna(axis = 0).reset_index(drop = True)\n",
    "    df_dicionario = df_dicionario_importado.copy()\n",
    "    print(f'Dicionário dos Microdados importados com sucesso para a variável {Fore.GREEN}df_dicionario.{Style.RESET_ALL}', end=\"\\n\\n\")     "
   ]
  },
  {
   "cell_type": "code",
   "execution_count": 10,
   "id": "700e5dd5",
   "metadata": {
    "run_control": {
     "marked": true
    }
   },
   "outputs": [
    {
     "name": "stdout",
     "output_type": "stream",
     "text": [
      "Dicionário dos Microdados importados com sucesso para a variável \u001b[32mdf_dicionario.\u001b[0m\n",
      "\n"
     ]
    }
   ],
   "source": [
    "leitura_dicionarios()"
   ]
  },
  {
   "cell_type": "markdown",
   "id": "6256f9be",
   "metadata": {},
   "source": [
    "# Tratamento de Dados"
   ]
  },
  {
   "cell_type": "markdown",
   "id": "0c79a53f",
   "metadata": {},
   "source": [
    "## Eliminação de Colunas que se encontram apenas na base de 2017"
   ]
  },
  {
   "cell_type": "code",
   "execution_count": 11,
   "id": "cee0e6d8",
   "metadata": {},
   "outputs": [],
   "source": [
    "colunas_so_2017 = list(set(df_enade_2017.columns) - set(df_enade_2018.columns))\n",
    "df_enade_2017 = df_enade_2017.drop(columns = colunas_so_2017)"
   ]
  },
  {
   "cell_type": "markdown",
   "id": "89f97b32",
   "metadata": {},
   "source": [
    "## Concatenação das Bases de 2017, 2018 e 2019"
   ]
  },
  {
   "cell_type": "code",
   "execution_count": 12,
   "id": "d573a68b",
   "metadata": {},
   "outputs": [],
   "source": [
    "df_enade_17_18_19 = pd.concat([df_enade_2017, df_enade_2018, df_enade_2019]).reset_index(drop = True)"
   ]
  },
  {
   "cell_type": "code",
   "execution_count": 13,
   "id": "741660cd",
   "metadata": {},
   "outputs": [
    {
     "data": {
      "text/plain": [
       "(1519493, 137)"
      ]
     },
     "execution_count": 13,
     "metadata": {},
     "output_type": "execute_result"
    }
   ],
   "source": [
    "df_enade_17_18_19.shape"
   ]
  },
  {
   "cell_type": "code",
   "execution_count": 14,
   "id": "70839eeb",
   "metadata": {},
   "outputs": [],
   "source": [
    "df_con_17_18_19 = pd.concat([df_con_2017, df_con_2018, df_con_2019]).reset_index(drop = True)"
   ]
  },
  {
   "cell_type": "code",
   "execution_count": 15,
   "id": "22f503f2",
   "metadata": {
    "run_control": {
     "marked": true
    }
   },
   "outputs": [
    {
     "data": {
      "text/html": [
       "<div>\n",
       "<style scoped>\n",
       "    .dataframe tbody tr th:only-of-type {\n",
       "        vertical-align: middle;\n",
       "    }\n",
       "\n",
       "    .dataframe tbody tr th {\n",
       "        vertical-align: top;\n",
       "    }\n",
       "\n",
       "    .dataframe thead th {\n",
       "        text-align: right;\n",
       "    }\n",
       "</style>\n",
       "<table border=\"1\" class=\"dataframe\">\n",
       "  <thead>\n",
       "    <tr style=\"text-align: right;\">\n",
       "      <th></th>\n",
       "      <th>NU_ANO</th>\n",
       "      <th>CO_IES</th>\n",
       "      <th>CO_CATEGAD</th>\n",
       "      <th>CO_ORGACAD</th>\n",
       "      <th>CO_GRUPO</th>\n",
       "      <th>CO_CURSO</th>\n",
       "      <th>CO_MODALIDADE</th>\n",
       "      <th>CO_MUNIC_CURSO</th>\n",
       "      <th>CO_UF_CURSO</th>\n",
       "      <th>CO_REGIAO_CURSO</th>\n",
       "      <th>...</th>\n",
       "      <th>QE_I59</th>\n",
       "      <th>QE_I60</th>\n",
       "      <th>QE_I61</th>\n",
       "      <th>QE_I62</th>\n",
       "      <th>QE_I63</th>\n",
       "      <th>QE_I64</th>\n",
       "      <th>QE_I65</th>\n",
       "      <th>QE_I66</th>\n",
       "      <th>QE_I67</th>\n",
       "      <th>QE_I68</th>\n",
       "    </tr>\n",
       "  </thead>\n",
       "  <tbody>\n",
       "    <tr>\n",
       "      <th>451244</th>\n",
       "      <td>2017</td>\n",
       "      <td>3648</td>\n",
       "      <td>4</td>\n",
       "      <td>10022</td>\n",
       "      <td>5814</td>\n",
       "      <td>1135690</td>\n",
       "      <td>1</td>\n",
       "      <td>5103403</td>\n",
       "      <td>51</td>\n",
       "      <td>5</td>\n",
       "      <td>...</td>\n",
       "      <td>5.0</td>\n",
       "      <td>5.0</td>\n",
       "      <td>5.0</td>\n",
       "      <td>5.0</td>\n",
       "      <td>4.0</td>\n",
       "      <td>5.0</td>\n",
       "      <td>5.0</td>\n",
       "      <td>5.0</td>\n",
       "      <td>4.0</td>\n",
       "      <td>5.0</td>\n",
       "    </tr>\n",
       "    <tr>\n",
       "      <th>430475</th>\n",
       "      <td>2017</td>\n",
       "      <td>4452</td>\n",
       "      <td>4</td>\n",
       "      <td>10022</td>\n",
       "      <td>5710</td>\n",
       "      <td>1110071</td>\n",
       "      <td>1</td>\n",
       "      <td>1504208</td>\n",
       "      <td>15</td>\n",
       "      <td>1</td>\n",
       "      <td>...</td>\n",
       "      <td>6.0</td>\n",
       "      <td>6.0</td>\n",
       "      <td>6.0</td>\n",
       "      <td>5.0</td>\n",
       "      <td>5.0</td>\n",
       "      <td>6.0</td>\n",
       "      <td>6.0</td>\n",
       "      <td>5.0</td>\n",
       "      <td>5.0</td>\n",
       "      <td>5.0</td>\n",
       "    </tr>\n",
       "    <tr>\n",
       "      <th>1232076</th>\n",
       "      <td>2019</td>\n",
       "      <td>5520</td>\n",
       "      <td>10005</td>\n",
       "      <td>10022</td>\n",
       "      <td>19</td>\n",
       "      <td>67586</td>\n",
       "      <td>1</td>\n",
       "      <td>1400100</td>\n",
       "      <td>14</td>\n",
       "      <td>1</td>\n",
       "      <td>...</td>\n",
       "      <td>6</td>\n",
       "      <td>6</td>\n",
       "      <td>6</td>\n",
       "      <td>6</td>\n",
       "      <td>6</td>\n",
       "      <td>6</td>\n",
       "      <td>6</td>\n",
       "      <td>6</td>\n",
       "      <td>6</td>\n",
       "      <td>6</td>\n",
       "    </tr>\n",
       "    <tr>\n",
       "      <th>923211</th>\n",
       "      <td>2018</td>\n",
       "      <td>861</td>\n",
       "      <td>10005</td>\n",
       "      <td>10022</td>\n",
       "      <td>2</td>\n",
       "      <td>17303</td>\n",
       "      <td>1</td>\n",
       "      <td>1600303</td>\n",
       "      <td>16</td>\n",
       "      <td>1</td>\n",
       "      <td>...</td>\n",
       "      <td>5.0</td>\n",
       "      <td>3.0</td>\n",
       "      <td>3.0</td>\n",
       "      <td>4.0</td>\n",
       "      <td>4.0</td>\n",
       "      <td>4.0</td>\n",
       "      <td>4.0</td>\n",
       "      <td>4.0</td>\n",
       "      <td>3.0</td>\n",
       "      <td>3.0</td>\n",
       "    </tr>\n",
       "  </tbody>\n",
       "</table>\n",
       "<p>4 rows × 137 columns</p>\n",
       "</div>"
      ],
      "text/plain": [
       "         NU_ANO  CO_IES  CO_CATEGAD  CO_ORGACAD  CO_GRUPO  CO_CURSO  \\\n",
       "451244     2017    3648           4       10022      5814   1135690   \n",
       "430475     2017    4452           4       10022      5710   1110071   \n",
       "1232076    2019    5520       10005       10022        19     67586   \n",
       "923211     2018     861       10005       10022         2     17303   \n",
       "\n",
       "         CO_MODALIDADE  CO_MUNIC_CURSO  CO_UF_CURSO  CO_REGIAO_CURSO  ...  \\\n",
       "451244               1         5103403           51                5  ...   \n",
       "430475               1         1504208           15                1  ...   \n",
       "1232076              1         1400100           14                1  ...   \n",
       "923211               1         1600303           16                1  ...   \n",
       "\n",
       "         QE_I59 QE_I60  QE_I61  QE_I62  QE_I63  QE_I64  QE_I65  QE_I66  \\\n",
       "451244      5.0    5.0     5.0     5.0     4.0     5.0     5.0     5.0   \n",
       "430475      6.0    6.0     6.0     5.0     5.0     6.0     6.0     5.0   \n",
       "1232076       6      6       6       6       6       6       6       6   \n",
       "923211      5.0    3.0     3.0     4.0     4.0     4.0     4.0     4.0   \n",
       "\n",
       "         QE_I67  QE_I68  \n",
       "451244      4.0     5.0  \n",
       "430475      5.0     5.0  \n",
       "1232076       6       6  \n",
       "923211      3.0     3.0  \n",
       "\n",
       "[4 rows x 137 columns]"
      ]
     },
     "execution_count": 15,
     "metadata": {},
     "output_type": "execute_result"
    }
   ],
   "source": [
    "df_enade_17_18_19.sample(4)"
   ]
  },
  {
   "cell_type": "markdown",
   "id": "124d3b19",
   "metadata": {},
   "source": [
    "## Eliminacao amostras vazias ou com nan na coluna de Nota Geral"
   ]
  },
  {
   "cell_type": "code",
   "execution_count": 16,
   "id": "9a6c0d65",
   "metadata": {
    "run_control": {
     "marked": true
    }
   },
   "outputs": [],
   "source": [
    "df_enade_17_18_19 = df_enade_17_18_19.replace(' ', np.nan)"
   ]
  },
  {
   "cell_type": "code",
   "execution_count": 17,
   "id": "1f4db089",
   "metadata": {
    "run_control": {
     "marked": true
    }
   },
   "outputs": [],
   "source": [
    "# Como a Nota é um fato, foram elinadas as amostras que não apresentam nota\n",
    "df_enade_17_18_19 = df_enade_17_18_19[df_enade_17_18_19[\"NT_GER\"].notna()].reset_index(drop = True) "
   ]
  },
  {
   "cell_type": "code",
   "execution_count": 18,
   "id": "fc888348",
   "metadata": {},
   "outputs": [
    {
     "data": {
      "text/plain": [
       "(1302299, 137)"
      ]
     },
     "execution_count": 18,
     "metadata": {},
     "output_type": "execute_result"
    }
   ],
   "source": [
    "df_enade_17_18_19.shape"
   ]
  },
  {
   "cell_type": "markdown",
   "id": "a67f9b80",
   "metadata": {},
   "source": [
    "## Eliminação de NaN em outras colunas utilizadas"
   ]
  },
  {
   "cell_type": "code",
   "execution_count": 19,
   "id": "920e0d8e",
   "metadata": {},
   "outputs": [],
   "source": [
    "turno_maisf_ies = df_enade_17_18_19.groupby(['CO_IES'])[\"CO_TURNO_GRADUACAO\"].agg(pd.Series.mode).to_frame()"
   ]
  },
  {
   "cell_type": "code",
   "execution_count": 20,
   "id": "5a8e1a62",
   "metadata": {},
   "outputs": [],
   "source": [
    "dicionario_turno_ies = dict(zip(turno_maisf_ies.index, turno_maisf_ies['CO_TURNO_GRADUACAO']))"
   ]
  },
  {
   "cell_type": "code",
   "execution_count": 21,
   "id": "d0db09d2",
   "metadata": {},
   "outputs": [],
   "source": [
    "index_nan = df_enade_17_18_19[df_enade_17_18_19[\"CO_TURNO_GRADUACAO\"].isna()].index.to_list()"
   ]
  },
  {
   "cell_type": "code",
   "execution_count": 22,
   "id": "39fbe430",
   "metadata": {
    "run_control": {
     "marked": true
    }
   },
   "outputs": [
    {
     "name": "stderr",
     "output_type": "stream",
     "text": [
      "<ipython-input-22-dc595c438c55>:5: SettingWithCopyWarning: \n",
      "A value is trying to be set on a copy of a slice from a DataFrame\n",
      "\n",
      "See the caveats in the documentation: https://pandas.pydata.org/pandas-docs/stable/user_guide/indexing.html#returning-a-view-versus-a-copy\n",
      "  df_enade_17_18_19.CO_TURNO_GRADUACAO[index] = dicionario_turno_ies[cod_ies].copy()\n",
      "C:\\Users\\010938631\\Anaconda3\\lib\\site-packages\\pandas\\core\\indexing.py:1732: SettingWithCopyWarning: \n",
      "A value is trying to be set on a copy of a slice from a DataFrame\n",
      "\n",
      "See the caveats in the documentation: https://pandas.pydata.org/pandas-docs/stable/user_guide/indexing.html#returning-a-view-versus-a-copy\n",
      "  self._setitem_single_block(indexer, value, name)\n"
     ]
    }
   ],
   "source": [
    "for index in index_nan:\n",
    "            \n",
    "    cod_ies = df_enade_17_18_19.CO_IES[index].copy()\n",
    "    try:\n",
    "        df_enade_17_18_19.CO_TURNO_GRADUACAO[index] = dicionario_turno_ies[cod_ies].copy()\n",
    "    \n",
    "    except:\n",
    "        pass"
   ]
  },
  {
   "cell_type": "code",
   "execution_count": 23,
   "id": "1f6d4607",
   "metadata": {},
   "outputs": [
    {
     "data": {
      "text/plain": [
       "4.0    686757\n",
       "3.0    424100\n",
       "1.0    155197\n",
       "2.0     35953\n",
       "NaN       292\n",
       "Name: CO_TURNO_GRADUACAO, dtype: int64"
      ]
     },
     "execution_count": 23,
     "metadata": {},
     "output_type": "execute_result"
    }
   ],
   "source": [
    "df_enade_17_18_19.CO_TURNO_GRADUACAO.value_counts(dropna = False)"
   ]
  },
  {
   "cell_type": "code",
   "execution_count": 24,
   "id": "ff08291e",
   "metadata": {},
   "outputs": [],
   "source": [
    "# As colunas abaixo são colunas presentes nas dimensões que apresentam nulos, como o número é baixo comparado ao \n",
    "# tamanho total da base de dados, foi optado a remoção de nulos \n",
    "df_enade_17_18_19 = df_enade_17_18_19[df_enade_17_18_19.CO_TURNO_GRADUACAO.notna()].reset_index(drop = True) # 292 nulos"
   ]
  },
  {
   "cell_type": "code",
   "execution_count": 25,
   "id": "f6b2a81e",
   "metadata": {},
   "outputs": [],
   "source": [
    "df_enade_17_18_19 = df_enade_17_18_19.dropna(subset=[\"QE_I01\"]).reset_index(drop = True) # 10231 nulos"
   ]
  },
  {
   "cell_type": "code",
   "execution_count": 26,
   "id": "68bfa232",
   "metadata": {},
   "outputs": [
    {
     "data": {
      "text/plain": [
       "(1291776, 137)"
      ]
     },
     "execution_count": 26,
     "metadata": {},
     "output_type": "execute_result"
    }
   ],
   "source": [
    "df_enade_17_18_19.shape"
   ]
  },
  {
   "cell_type": "markdown",
   "id": "223562f1",
   "metadata": {},
   "source": [
    "## Eliminação de amostras duvidosas"
   ]
  },
  {
   "cell_type": "code",
   "execution_count": 27,
   "id": "aaaa1cd3",
   "metadata": {},
   "outputs": [],
   "source": [
    "#Há casos de 1 amostra com estudante com idade igual 4, 3 igual a 11 e 1 igual 12\n",
    "df_enade_17_18_19 = df_enade_17_18_19[df_enade_17_18_19[\"NU_IDADE\"] > 12]"
   ]
  },
  {
   "cell_type": "markdown",
   "id": "4facc3c9",
   "metadata": {},
   "source": [
    "## Renomeação de Colunas"
   ]
  },
  {
   "cell_type": "code",
   "execution_count": 28,
   "id": "b493da17",
   "metadata": {},
   "outputs": [],
   "source": [
    "df_enade_17_18_19 = df_enade_17_18_19.rename(columns = {\"NU_ANO\": \"ID_TEMPO\"})"
   ]
  },
  {
   "cell_type": "markdown",
   "id": "77172b6f",
   "metadata": {},
   "source": [
    "# Criação das Tabelas de Dimensão e Fato"
   ]
  },
  {
   "cell_type": "markdown",
   "id": "e5f8373d",
   "metadata": {
    "heading_collapsed": true
   },
   "source": [
    "## Dimensão Tempo"
   ]
  },
  {
   "cell_type": "code",
   "execution_count": 29,
   "id": "1be773ae",
   "metadata": {
    "hidden": true
   },
   "outputs": [],
   "source": [
    "dim_tempo = df_enade_17_18_19[[\"ID_TEMPO\"]].drop_duplicates().reset_index(drop = True)\n",
    "dim_tempo[\"ANO\"] = dim_tempo.ID_TEMPO\n",
    "dim_tempo = dim_tempo.set_index(\"ID_TEMPO\").sort_index()"
   ]
  },
  {
   "cell_type": "code",
   "execution_count": 30,
   "id": "afddd76d",
   "metadata": {
    "hidden": true
   },
   "outputs": [
    {
     "data": {
      "text/html": [
       "<div>\n",
       "<style scoped>\n",
       "    .dataframe tbody tr th:only-of-type {\n",
       "        vertical-align: middle;\n",
       "    }\n",
       "\n",
       "    .dataframe tbody tr th {\n",
       "        vertical-align: top;\n",
       "    }\n",
       "\n",
       "    .dataframe thead th {\n",
       "        text-align: right;\n",
       "    }\n",
       "</style>\n",
       "<table border=\"1\" class=\"dataframe\">\n",
       "  <thead>\n",
       "    <tr style=\"text-align: right;\">\n",
       "      <th></th>\n",
       "      <th>ANO</th>\n",
       "    </tr>\n",
       "    <tr>\n",
       "      <th>ID_TEMPO</th>\n",
       "      <th></th>\n",
       "    </tr>\n",
       "  </thead>\n",
       "  <tbody>\n",
       "    <tr>\n",
       "      <th>2017</th>\n",
       "      <td>2017</td>\n",
       "    </tr>\n",
       "    <tr>\n",
       "      <th>2018</th>\n",
       "      <td>2018</td>\n",
       "    </tr>\n",
       "    <tr>\n",
       "      <th>2019</th>\n",
       "      <td>2019</td>\n",
       "    </tr>\n",
       "  </tbody>\n",
       "</table>\n",
       "</div>"
      ],
      "text/plain": [
       "           ANO\n",
       "ID_TEMPO      \n",
       "2017      2017\n",
       "2018      2018\n",
       "2019      2019"
      ]
     },
     "execution_count": 30,
     "metadata": {},
     "output_type": "execute_result"
    }
   ],
   "source": [
    "dim_tempo.head(3)"
   ]
  },
  {
   "cell_type": "markdown",
   "id": "ef4a280c",
   "metadata": {
    "heading_collapsed": true
   },
   "source": [
    "## Dimensão Curso"
   ]
  },
  {
   "cell_type": "code",
   "execution_count": 31,
   "id": "f6395782",
   "metadata": {
    "hidden": true
   },
   "outputs": [],
   "source": [
    "df_enade_17_18_19[\"ID_CURSO\"] = df_enade_17_18_19.groupby(['CO_MODALIDADE','CO_GRUPO']).ngroup()"
   ]
  },
  {
   "cell_type": "code",
   "execution_count": 32,
   "id": "4224bc78",
   "metadata": {
    "hidden": true
   },
   "outputs": [],
   "source": [
    "dim_curso = df_enade_17_18_19[[\"ID_CURSO\",'CO_MODALIDADE','CO_GRUPO']]\n",
    "dim_curso = dim_curso.drop_duplicates().set_index(\"ID_CURSO\").sort_index()"
   ]
  },
  {
   "cell_type": "code",
   "execution_count": 33,
   "id": "418cd87e",
   "metadata": {
    "hidden": true
   },
   "outputs": [],
   "source": [
    "dicionario_resposta = {0 : \"Educação a Distância\",\n",
    "                       1 : \"Educação Presencial\",\n",
    "                       2 : \"Educação a Distância\"}\n",
    "\n",
    "dim_curso = dim_curso.replace({\"CO_MODALIDADE\": dicionario_resposta})\n",
    "\n",
    "dicionario_resposta = dict(zip(df_con_17_18_19['Código da Área'], df_con_17_18_19['Área de Avaliação']))\n",
    "\n",
    "dim_curso = dim_curso.replace({\"CO_GRUPO\": dicionario_resposta})"
   ]
  },
  {
   "cell_type": "code",
   "execution_count": 34,
   "id": "8949b17b",
   "metadata": {
    "hidden": true
   },
   "outputs": [],
   "source": [
    "dim_curso = dim_curso.rename(columns = {\"CO_MODALIDADE\" : \"MODALIDADE_CURSO\",\n",
    "                       \"CO_GRUPO\" : \"GRUPO_CURSO\"})"
   ]
  },
  {
   "cell_type": "code",
   "execution_count": 35,
   "id": "c2f22dc2",
   "metadata": {
    "hidden": true
   },
   "outputs": [
    {
     "data": {
      "text/html": [
       "<div>\n",
       "<style scoped>\n",
       "    .dataframe tbody tr th:only-of-type {\n",
       "        vertical-align: middle;\n",
       "    }\n",
       "\n",
       "    .dataframe tbody tr th {\n",
       "        vertical-align: top;\n",
       "    }\n",
       "\n",
       "    .dataframe thead th {\n",
       "        text-align: right;\n",
       "    }\n",
       "</style>\n",
       "<table border=\"1\" class=\"dataframe\">\n",
       "  <thead>\n",
       "    <tr style=\"text-align: right;\">\n",
       "      <th></th>\n",
       "      <th>MODALIDADE_CURSO</th>\n",
       "      <th>GRUPO_CURSO</th>\n",
       "    </tr>\n",
       "    <tr>\n",
       "      <th>ID_CURSO</th>\n",
       "      <th></th>\n",
       "      <th></th>\n",
       "    </tr>\n",
       "  </thead>\n",
       "  <tbody>\n",
       "    <tr>\n",
       "      <th>0</th>\n",
       "      <td>Educação a Distância</td>\n",
       "      <td>ENFERMAGEM</td>\n",
       "    </tr>\n",
       "    <tr>\n",
       "      <th>1</th>\n",
       "      <td>Educação a Distância</td>\n",
       "      <td>NUTRIÇÃO</td>\n",
       "    </tr>\n",
       "    <tr>\n",
       "      <th>2</th>\n",
       "      <td>Educação a Distância</td>\n",
       "      <td>BIOMEDICINA</td>\n",
       "    </tr>\n",
       "  </tbody>\n",
       "</table>\n",
       "</div>"
      ],
      "text/plain": [
       "              MODALIDADE_CURSO  GRUPO_CURSO\n",
       "ID_CURSO                                   \n",
       "0         Educação a Distância   ENFERMAGEM\n",
       "1         Educação a Distância     NUTRIÇÃO\n",
       "2         Educação a Distância  BIOMEDICINA"
      ]
     },
     "execution_count": 35,
     "metadata": {},
     "output_type": "execute_result"
    }
   ],
   "source": [
    "dim_curso.head(3)"
   ]
  },
  {
   "cell_type": "markdown",
   "id": "a9fed82d",
   "metadata": {
    "heading_collapsed": true
   },
   "source": [
    "## Dimensão IES"
   ]
  },
  {
   "cell_type": "code",
   "execution_count": 36,
   "id": "b6252491",
   "metadata": {
    "hidden": true
   },
   "outputs": [],
   "source": [
    "df_enade_17_18_19[\"ID_IES_ANO\"] = df_enade_17_18_19.groupby(['CO_IES', 'CO_CATEGAD',  'CO_ORGACAD']).ngroup()"
   ]
  },
  {
   "cell_type": "code",
   "execution_count": 37,
   "id": "7077d274",
   "metadata": {
    "hidden": true
   },
   "outputs": [],
   "source": [
    "dim_ies = df_enade_17_18_19[[\"ID_IES_ANO\",'CO_IES', 'CO_CATEGAD',  'CO_ORGACAD']]\n",
    "dim_ies = dim_ies.drop_duplicates().set_index(\"ID_IES_ANO\").sort_index()"
   ]
  },
  {
   "cell_type": "code",
   "execution_count": 38,
   "id": "f9f03d31",
   "metadata": {
    "hidden": true
   },
   "outputs": [],
   "source": [
    "dicionario_codigos = {10019 : \"Centro Federal de Educação Tecnológica\",\n",
    "                    10020 : \" Centro Universitário\",\n",
    "                    10022 : \"Faculdade \",\n",
    "                    10026 : \"Instituto Federal de Educação, Ciência e Tecnologia\",\n",
    "                    10028 : \"Universidade\"}\n",
    "\n",
    "dim_ies = dim_ies.replace({\"CO_ORGACAD\": dicionario_codigos})\n",
    "\n",
    "dicionario_codigos = {1 : \"Pública Federal\",\n",
    "                    2 : \"Pública Estadual\",\n",
    "                    3 : \"Pública Municipal\",\n",
    "                    4 : \"Privada com fins lucrativos\",\n",
    "                    5 : \"Privada sem fins lucrativos\",\n",
    "                     7: \"Especial\",\n",
    "                     118:\"Privada com fins lucrativos\",\n",
    "                    120:\"Privada sem fins lucrativos\",\n",
    "                    121:\"Privada sem fins lucrativos\",\n",
    "                    10005:\"Privada com fins lucrativos\",\n",
    "                    10006:\"Privada com fins lucrativos\",\n",
    "                    10007:\"Privada sem fins lucrativos\",\n",
    "                    10008:\"Privada sem fins lucrativos\",\n",
    "                    10009:\"Privada sem fins lucrativos\",\n",
    "                    17634:\"Privada sem fins lucrativos\",\n",
    "                    93:\"Pública Federal\",\n",
    "                    115:\"Pública Estadual\",\n",
    "                    116:\"Pública Municipal\",\n",
    "                    10001:\"Pública Estadual\",\n",
    "                    10002:\"Pública Federal\",\n",
    "                    10003:\"Pública Municipal\",\n",
    "                    895: \"Pública Municipal\"}\n",
    "\n",
    "dim_ies = dim_ies.replace({\"CO_CATEGAD\": dicionario_codigos})\n",
    "\n",
    "nome_ies_recence = df_con_17_18_19[['Código da IES','Nome da IES']].drop_duplicates(subset = 'Código da IES', \n",
    "                                                                                    keep = \"last\")\n",
    "\n",
    "dicionario_codigos = dict(zip(nome_ies_recence['Código da IES'], nome_ies_recence['Nome da IES']))\n",
    "dim_ies = dim_ies.replace({\"CO_IES\": dicionario_codigos})"
   ]
  },
  {
   "cell_type": "code",
   "execution_count": 39,
   "id": "875eb714",
   "metadata": {
    "hidden": true
   },
   "outputs": [],
   "source": [
    "nome_ies_recence = df_con_17_18_19[['Código da IES','Nome da IES']].drop_duplicates(subset = 'Código da IES', keep = \"last\")\n",
    "dicionario_codigos = dict(zip(nome_ies_recence['Código da IES'], nome_ies_recence['Nome da IES']))\n",
    "\n",
    "\n",
    "dim_ies = dim_ies.replace({\"CO_IES\": dicionario_codigos})"
   ]
  },
  {
   "cell_type": "code",
   "execution_count": 40,
   "id": "9306b4ab",
   "metadata": {
    "hidden": true
   },
   "outputs": [],
   "source": [
    "dim_ies = dim_ies.rename(columns = {\"CO_IES\" : \"NOME_IES\",\n",
    "                                       \"CO_CATEGAD\" : \"CATEGORIA_IES\",\n",
    "                                       \"CO_ORGACAD\" : \"ORGANIZACAO_IES\"})"
   ]
  },
  {
   "cell_type": "code",
   "execution_count": 41,
   "id": "fbaf1176",
   "metadata": {
    "hidden": true
   },
   "outputs": [
    {
     "data": {
      "text/html": [
       "<div>\n",
       "<style scoped>\n",
       "    .dataframe tbody tr th:only-of-type {\n",
       "        vertical-align: middle;\n",
       "    }\n",
       "\n",
       "    .dataframe tbody tr th {\n",
       "        vertical-align: top;\n",
       "    }\n",
       "\n",
       "    .dataframe thead th {\n",
       "        text-align: right;\n",
       "    }\n",
       "</style>\n",
       "<table border=\"1\" class=\"dataframe\">\n",
       "  <thead>\n",
       "    <tr style=\"text-align: right;\">\n",
       "      <th></th>\n",
       "      <th>NOME_IES</th>\n",
       "      <th>CATEGORIA_IES</th>\n",
       "      <th>ORGANIZACAO_IES</th>\n",
       "    </tr>\n",
       "    <tr>\n",
       "      <th>ID_IES_ANO</th>\n",
       "      <th></th>\n",
       "      <th></th>\n",
       "      <th></th>\n",
       "    </tr>\n",
       "  </thead>\n",
       "  <tbody>\n",
       "    <tr>\n",
       "      <th>0</th>\n",
       "      <td>UNIVERSIDADE FEDERAL DE MATO GROSSO</td>\n",
       "      <td>Pública Federal</td>\n",
       "      <td>Universidade</td>\n",
       "    </tr>\n",
       "    <tr>\n",
       "      <th>1</th>\n",
       "      <td>UNIVERSIDADE FEDERAL DE MATO GROSSO</td>\n",
       "      <td>Pública Federal</td>\n",
       "      <td>Universidade</td>\n",
       "    </tr>\n",
       "    <tr>\n",
       "      <th>2</th>\n",
       "      <td>UNIVERSIDADE DE BRASÍLIA</td>\n",
       "      <td>Pública Federal</td>\n",
       "      <td>Universidade</td>\n",
       "    </tr>\n",
       "    <tr>\n",
       "      <th>3</th>\n",
       "      <td>UNIVERSIDADE DE BRASÍLIA</td>\n",
       "      <td>Pública Federal</td>\n",
       "      <td>Universidade</td>\n",
       "    </tr>\n",
       "  </tbody>\n",
       "</table>\n",
       "</div>"
      ],
      "text/plain": [
       "                                       NOME_IES    CATEGORIA_IES  \\\n",
       "ID_IES_ANO                                                         \n",
       "0           UNIVERSIDADE FEDERAL DE MATO GROSSO  Pública Federal   \n",
       "1           UNIVERSIDADE FEDERAL DE MATO GROSSO  Pública Federal   \n",
       "2                      UNIVERSIDADE DE BRASÍLIA  Pública Federal   \n",
       "3                      UNIVERSIDADE DE BRASÍLIA  Pública Federal   \n",
       "\n",
       "           ORGANIZACAO_IES  \n",
       "ID_IES_ANO                  \n",
       "0             Universidade  \n",
       "1             Universidade  \n",
       "2             Universidade  \n",
       "3             Universidade  "
      ]
     },
     "execution_count": 41,
     "metadata": {},
     "output_type": "execute_result"
    }
   ],
   "source": [
    "dim_ies.head(4)"
   ]
  },
  {
   "cell_type": "markdown",
   "id": "389eec58",
   "metadata": {
    "heading_collapsed": true
   },
   "source": [
    "## Dimensão Região"
   ]
  },
  {
   "cell_type": "code",
   "execution_count": 42,
   "id": "d95fd90a",
   "metadata": {
    "hidden": true
   },
   "outputs": [],
   "source": [
    "codigos_regiao_cidade = df_enade_17_18_19[[\"CO_MUNIC_CURSO\",\"CO_REGIAO_CURSO\"]].drop_duplicates()\n",
    "codigos_regiao_cidade = codigos_regiao_cidade.reset_index(drop = True)"
   ]
  },
  {
   "cell_type": "code",
   "execution_count": 43,
   "id": "f1c96f40",
   "metadata": {
    "hidden": true
   },
   "outputs": [],
   "source": [
    "dicionario_regiao = {1: \"Norte\", 2: \"Nordeste\", 3:\"Sudeste\", 4:\"Sul\", 5:\"Centro-Oeste\"}\n",
    "codigos_regiao_cidade = codigos_regiao_cidade.replace({\"CO_REGIAO_CURSO\": dicionario_regiao})\n",
    "codigos_regiao_cidade = codigos_regiao_cidade.rename(columns = {\"CO_REGIAO_CURSO\": \"REGIAO_CURSO\"})"
   ]
  },
  {
   "cell_type": "code",
   "execution_count": 44,
   "id": "d50b44b8",
   "metadata": {
    "hidden": true
   },
   "outputs": [],
   "source": [
    "df_cod_cidades = df_cod_cidades.rename(columns = {\"CÓDIGO DO MUNICÍPIO\": \"CO_MUNIC_CURSO\",\n",
    "                                                  \"NOME DO MUNICÍPIO\": \"NOME_MUNICIPIO\"})"
   ]
  },
  {
   "cell_type": "code",
   "execution_count": 45,
   "id": "34c18232",
   "metadata": {
    "hidden": true,
    "run_control": {
     "marked": true
    }
   },
   "outputs": [
    {
     "data": {
      "text/html": [
       "<div>\n",
       "<style scoped>\n",
       "    .dataframe tbody tr th:only-of-type {\n",
       "        vertical-align: middle;\n",
       "    }\n",
       "\n",
       "    .dataframe tbody tr th {\n",
       "        vertical-align: top;\n",
       "    }\n",
       "\n",
       "    .dataframe thead th {\n",
       "        text-align: right;\n",
       "    }\n",
       "</style>\n",
       "<table border=\"1\" class=\"dataframe\">\n",
       "  <thead>\n",
       "    <tr style=\"text-align: right;\">\n",
       "      <th></th>\n",
       "      <th>NOME_MUNICIPIO</th>\n",
       "      <th>UF</th>\n",
       "      <th>REGIAO_CURSO</th>\n",
       "    </tr>\n",
       "    <tr>\n",
       "      <th>CO_MUNIC_CURSO</th>\n",
       "      <th></th>\n",
       "      <th></th>\n",
       "      <th></th>\n",
       "    </tr>\n",
       "  </thead>\n",
       "  <tbody>\n",
       "    <tr>\n",
       "      <th>1100023</th>\n",
       "      <td>ARIQUEMES</td>\n",
       "      <td>RO</td>\n",
       "      <td>Norte</td>\n",
       "    </tr>\n",
       "    <tr>\n",
       "      <th>1100049</th>\n",
       "      <td>CACOAL</td>\n",
       "      <td>RO</td>\n",
       "      <td>Norte</td>\n",
       "    </tr>\n",
       "    <tr>\n",
       "      <th>1100064</th>\n",
       "      <td>COLORADO DO OESTE</td>\n",
       "      <td>RO</td>\n",
       "      <td>Norte</td>\n",
       "    </tr>\n",
       "  </tbody>\n",
       "</table>\n",
       "</div>"
      ],
      "text/plain": [
       "                   NOME_MUNICIPIO  UF REGIAO_CURSO\n",
       "CO_MUNIC_CURSO                                    \n",
       "1100023                 ARIQUEMES  RO        Norte\n",
       "1100049                    CACOAL  RO        Norte\n",
       "1100064         COLORADO DO OESTE  RO        Norte"
      ]
     },
     "execution_count": 45,
     "metadata": {},
     "output_type": "execute_result"
    }
   ],
   "source": [
    "dim_regiao = pd.merge(df_cod_cidades, codigos_regiao_cidade, on = \"CO_MUNIC_CURSO\").set_index(\"CO_MUNIC_CURSO\")\n",
    "dim_regiao = dim_regiao.sort_index()\n",
    "dim_regiao.head(3)"
   ]
  },
  {
   "cell_type": "markdown",
   "id": "4ee2feae",
   "metadata": {
    "heading_collapsed": true
   },
   "source": [
    "## Dimensão Presença "
   ]
  },
  {
   "cell_type": "code",
   "execution_count": 46,
   "id": "a3f29909",
   "metadata": {
    "hidden": true
   },
   "outputs": [],
   "source": [
    "df_enade_17_18_19[\"ID_PRESENCA\"] = df_enade_17_18_19.groupby(['TP_PR_OB_FG','TP_PR_DI_FG','TP_PR_OB_CE','TP_PR_DI_CE']).ngroup()"
   ]
  },
  {
   "cell_type": "code",
   "execution_count": 47,
   "id": "c70fe6db",
   "metadata": {
    "hidden": true,
    "run_control": {
     "marked": true
    }
   },
   "outputs": [],
   "source": [
    "dicionario_presenca_prova = { 333 : 0,\n",
    "                              555 : 1}"
   ]
  },
  {
   "cell_type": "code",
   "execution_count": 48,
   "id": "cd4ee2fd",
   "metadata": {
    "hidden": true
   },
   "outputs": [],
   "source": [
    "dim_presenca =  df_enade_17_18_19[['ID_PRESENCA','TP_PR_OB_FG','TP_PR_DI_FG','TP_PR_OB_CE','TP_PR_DI_CE']]\n",
    "dim_presenca = dim_presenca.drop_duplicates().set_index('ID_PRESENCA').sort_index()\n",
    "\n",
    "dim_presenca = dim_presenca.replace({'TP_PR_OB_FG': dicionario_presenca_prova,\n",
    "                                     'TP_PR_DI_FG': dicionario_presenca_prova,\n",
    "                                     'TP_PR_OB_CE': dicionario_presenca_prova,\n",
    "                                     'TP_PR_DI_CE': dicionario_presenca_prova})\n",
    "\n",
    "dim_presenca = dim_presenca.astype(int)"
   ]
  },
  {
   "cell_type": "code",
   "execution_count": 49,
   "id": "8f208d97",
   "metadata": {
    "hidden": true
   },
   "outputs": [
    {
     "data": {
      "text/html": [
       "<div>\n",
       "<style scoped>\n",
       "    .dataframe tbody tr th:only-of-type {\n",
       "        vertical-align: middle;\n",
       "    }\n",
       "\n",
       "    .dataframe tbody tr th {\n",
       "        vertical-align: top;\n",
       "    }\n",
       "\n",
       "    .dataframe thead th {\n",
       "        text-align: right;\n",
       "    }\n",
       "</style>\n",
       "<table border=\"1\" class=\"dataframe\">\n",
       "  <thead>\n",
       "    <tr style=\"text-align: right;\">\n",
       "      <th></th>\n",
       "      <th>TP_PR_OB_FG</th>\n",
       "      <th>TP_PR_DI_FG</th>\n",
       "      <th>TP_PR_OB_CE</th>\n",
       "      <th>TP_PR_DI_CE</th>\n",
       "    </tr>\n",
       "    <tr>\n",
       "      <th>ID_PRESENCA</th>\n",
       "      <th></th>\n",
       "      <th></th>\n",
       "      <th></th>\n",
       "      <th></th>\n",
       "    </tr>\n",
       "  </thead>\n",
       "  <tbody>\n",
       "    <tr>\n",
       "      <th>0</th>\n",
       "      <td>0</td>\n",
       "      <td>0</td>\n",
       "      <td>0</td>\n",
       "      <td>0</td>\n",
       "    </tr>\n",
       "    <tr>\n",
       "      <th>1</th>\n",
       "      <td>0</td>\n",
       "      <td>0</td>\n",
       "      <td>0</td>\n",
       "      <td>1</td>\n",
       "    </tr>\n",
       "    <tr>\n",
       "      <th>2</th>\n",
       "      <td>0</td>\n",
       "      <td>0</td>\n",
       "      <td>1</td>\n",
       "      <td>0</td>\n",
       "    </tr>\n",
       "    <tr>\n",
       "      <th>3</th>\n",
       "      <td>0</td>\n",
       "      <td>0</td>\n",
       "      <td>1</td>\n",
       "      <td>1</td>\n",
       "    </tr>\n",
       "    <tr>\n",
       "      <th>4</th>\n",
       "      <td>0</td>\n",
       "      <td>1</td>\n",
       "      <td>0</td>\n",
       "      <td>0</td>\n",
       "    </tr>\n",
       "  </tbody>\n",
       "</table>\n",
       "</div>"
      ],
      "text/plain": [
       "             TP_PR_OB_FG  TP_PR_DI_FG  TP_PR_OB_CE  TP_PR_DI_CE\n",
       "ID_PRESENCA                                                    \n",
       "0                      0            0            0            0\n",
       "1                      0            0            0            1\n",
       "2                      0            0            1            0\n",
       "3                      0            0            1            1\n",
       "4                      0            1            0            0"
      ]
     },
     "execution_count": 49,
     "metadata": {},
     "output_type": "execute_result"
    }
   ],
   "source": [
    "dim_presenca.head()"
   ]
  },
  {
   "cell_type": "markdown",
   "id": "a90b1cd8",
   "metadata": {},
   "source": [
    "## Dimensão Aluno Socio"
   ]
  },
  {
   "cell_type": "code",
   "execution_count": 50,
   "id": "341a43d9",
   "metadata": {},
   "outputs": [],
   "source": [
    "df_enade_17_18_19.QE_I02 = np.where(df_enade_17_18_19.QE_I02.isna(), \n",
    "                                    df_enade_17_18_19.QE_I02.value_counts().idxmax(), df_enade_17_18_19.QE_I02)\n",
    "\n",
    "df_enade_17_18_19.QE_I03 = np.where(df_enade_17_18_19.QE_I03.isna(), \n",
    "                                    df_enade_17_18_19.QE_I03.value_counts().idxmax(), df_enade_17_18_19.QE_I03)"
   ]
  },
  {
   "cell_type": "code",
   "execution_count": 51,
   "id": "ca0f906a",
   "metadata": {},
   "outputs": [],
   "source": [
    "df_enade_17_18_19[\"ID_ALUNO_INFO\"] = df_enade_17_18_19.groupby(['NU_IDADE','TP_SEXO','CO_TURNO_GRADUACAO',\n",
    "                                                                'QE_I01','QE_I02','QE_I03']).ngroup()"
   ]
  },
  {
   "cell_type": "code",
   "execution_count": 52,
   "id": "99b5310c",
   "metadata": {},
   "outputs": [],
   "source": [
    "dim_info_aluno = df_enade_17_18_19[[\"ID_ALUNO_INFO\",'NU_IDADE','TP_SEXO','CO_TURNO_GRADUACAO','QE_I01','QE_I02','QE_I03']]\n",
    "dim_info_aluno = dim_info_aluno.drop_duplicates().set_index(\"ID_ALUNO_INFO\").sort_index()"
   ]
  },
  {
   "cell_type": "code",
   "execution_count": 53,
   "id": "9448462e",
   "metadata": {},
   "outputs": [],
   "source": [
    "dicionario_resposta = {\"A\" : \"Solteiro(a)\",\n",
    "                         \"B\" : \"Casado(a)\",\n",
    "                         \"C\" : \"Divorciado(a)\",\n",
    "                         \"D\" : \"Viúvo(a)\",\n",
    "                         \"E\" : \"Outro\"}\n",
    "\n",
    "dim_info_aluno = dim_info_aluno.replace({\"QE_I01\": dicionario_resposta})\n",
    "\n",
    "dicionario_resposta = {\"A\" : \"Branca\",\n",
    "                         \"B\" : \"Preta\",\n",
    "                         \"C\" : \"Amarela\",\n",
    "                         \"D\" : \"Parda\",\n",
    "                         \"E\" : \"Indígena\",\n",
    "                         \"F\" : \"Não quero declarar\"}\n",
    "\n",
    "dim_info_aluno = dim_info_aluno.replace({\"QE_I02\": dicionario_resposta})\n",
    "\n",
    "dicionario_resposta = {\"A\" : \"Brasileira\",\n",
    "                         \"B\" : \"Brasileira naturalizada\",\n",
    "                         \"C\" : \"Estrangeira\"}\n",
    "\n",
    "dim_info_aluno = dim_info_aluno.replace({\"QE_I03\": dicionario_resposta})"
   ]
  },
  {
   "cell_type": "code",
   "execution_count": 54,
   "id": "b5d95da6",
   "metadata": {},
   "outputs": [],
   "source": [
    "dim_info_aluno = dim_info_aluno.rename(columns = {\"QE_I01\" : \"ESTADO_CIVIL\",\n",
    "                       \"QE_I02\" : \"RAÇA\",\n",
    "                       \"QE_I03\" : \"NACIONALIDADE\"})\n",
    "\n",
    "dim_info_aluno.CO_TURNO_GRADUACAO = dim_info_aluno.CO_TURNO_GRADUACAO.astype(int)"
   ]
  },
  {
   "cell_type": "code",
   "execution_count": 55,
   "id": "80bc8c6f",
   "metadata": {},
   "outputs": [
    {
     "data": {
      "text/html": [
       "<div>\n",
       "<style scoped>\n",
       "    .dataframe tbody tr th:only-of-type {\n",
       "        vertical-align: middle;\n",
       "    }\n",
       "\n",
       "    .dataframe tbody tr th {\n",
       "        vertical-align: top;\n",
       "    }\n",
       "\n",
       "    .dataframe thead th {\n",
       "        text-align: right;\n",
       "    }\n",
       "</style>\n",
       "<table border=\"1\" class=\"dataframe\">\n",
       "  <thead>\n",
       "    <tr style=\"text-align: right;\">\n",
       "      <th></th>\n",
       "      <th>NU_IDADE</th>\n",
       "      <th>TP_SEXO</th>\n",
       "      <th>CO_TURNO_GRADUACAO</th>\n",
       "      <th>ESTADO_CIVIL</th>\n",
       "      <th>RAÇA</th>\n",
       "      <th>NACIONALIDADE</th>\n",
       "    </tr>\n",
       "    <tr>\n",
       "      <th>ID_ALUNO_INFO</th>\n",
       "      <th></th>\n",
       "      <th></th>\n",
       "      <th></th>\n",
       "      <th></th>\n",
       "      <th></th>\n",
       "      <th></th>\n",
       "    </tr>\n",
       "  </thead>\n",
       "  <tbody>\n",
       "    <tr>\n",
       "      <th>0</th>\n",
       "      <td>16</td>\n",
       "      <td>M</td>\n",
       "      <td>4</td>\n",
       "      <td>Solteiro(a)</td>\n",
       "      <td>Branca</td>\n",
       "      <td>Brasileira</td>\n",
       "    </tr>\n",
       "    <tr>\n",
       "      <th>1</th>\n",
       "      <td>17</td>\n",
       "      <td>F</td>\n",
       "      <td>2</td>\n",
       "      <td>Solteiro(a)</td>\n",
       "      <td>Branca</td>\n",
       "      <td>Brasileira</td>\n",
       "    </tr>\n",
       "    <tr>\n",
       "      <th>2</th>\n",
       "      <td>17</td>\n",
       "      <td>M</td>\n",
       "      <td>3</td>\n",
       "      <td>Solteiro(a)</td>\n",
       "      <td>Parda</td>\n",
       "      <td>Brasileira</td>\n",
       "    </tr>\n",
       "    <tr>\n",
       "      <th>3</th>\n",
       "      <td>18</td>\n",
       "      <td>F</td>\n",
       "      <td>1</td>\n",
       "      <td>Solteiro(a)</td>\n",
       "      <td>Branca</td>\n",
       "      <td>Brasileira</td>\n",
       "    </tr>\n",
       "    <tr>\n",
       "      <th>4</th>\n",
       "      <td>18</td>\n",
       "      <td>F</td>\n",
       "      <td>1</td>\n",
       "      <td>Solteiro(a)</td>\n",
       "      <td>Parda</td>\n",
       "      <td>Brasileira</td>\n",
       "    </tr>\n",
       "  </tbody>\n",
       "</table>\n",
       "</div>"
      ],
      "text/plain": [
       "               NU_IDADE TP_SEXO  CO_TURNO_GRADUACAO ESTADO_CIVIL    RAÇA  \\\n",
       "ID_ALUNO_INFO                                                              \n",
       "0                    16       M                   4  Solteiro(a)  Branca   \n",
       "1                    17       F                   2  Solteiro(a)  Branca   \n",
       "2                    17       M                   3  Solteiro(a)   Parda   \n",
       "3                    18       F                   1  Solteiro(a)  Branca   \n",
       "4                    18       F                   1  Solteiro(a)   Parda   \n",
       "\n",
       "              NACIONALIDADE  \n",
       "ID_ALUNO_INFO                \n",
       "0                Brasileira  \n",
       "1                Brasileira  \n",
       "2                Brasileira  \n",
       "3                Brasileira  \n",
       "4                Brasileira  "
      ]
     },
     "execution_count": 55,
     "metadata": {},
     "output_type": "execute_result"
    }
   ],
   "source": [
    "dim_info_aluno.head()"
   ]
  },
  {
   "cell_type": "markdown",
   "id": "2dea09a5",
   "metadata": {
    "heading_collapsed": true
   },
   "source": [
    "## Dimensao Ensino Médio"
   ]
  },
  {
   "cell_type": "code",
   "execution_count": 56,
   "id": "cf4dc716",
   "metadata": {
    "hidden": true
   },
   "outputs": [],
   "source": [
    "df_enade_17_18_19.QE_I17 = np.where(df_enade_17_18_19.QE_I17.isna(), \n",
    "                                    df_enade_17_18_19.QE_I17.value_counts().idxmax(), df_enade_17_18_19.QE_I17)\n",
    "\n",
    "df_enade_17_18_19.QE_I18 = np.where(df_enade_17_18_19.QE_I18.isna(), \n",
    "                                    df_enade_17_18_19.QE_I18.value_counts().idxmax(), df_enade_17_18_19.QE_I18)"
   ]
  },
  {
   "cell_type": "code",
   "execution_count": 57,
   "id": "5381719b",
   "metadata": {
    "hidden": true
   },
   "outputs": [],
   "source": [
    "df_enade_17_18_19[\"ID_ALUNO_ENSINO_MEDIO\"] = df_enade_17_18_19.groupby(['QE_I17','QE_I18']).ngroup()"
   ]
  },
  {
   "cell_type": "code",
   "execution_count": 58,
   "id": "af28db31",
   "metadata": {
    "hidden": true
   },
   "outputs": [],
   "source": [
    "dim_ensino_medio = df_enade_17_18_19[[\"ID_ALUNO_ENSINO_MEDIO\",'QE_I17','QE_I18']]\n",
    "dim_ensino_medio = dim_ensino_medio.drop_duplicates().set_index(\"ID_ALUNO_ENSINO_MEDIO\").sort_index()"
   ]
  },
  {
   "cell_type": "code",
   "execution_count": 59,
   "id": "c9352699",
   "metadata": {
    "hidden": true
   },
   "outputs": [],
   "source": [
    "dicionario_resposta = {\"A\" : \"Todo em escola pública\",\n",
    "                         \"B\" : \"Todo em escola privada\",\n",
    "                         \"C\" : \"Todo no exterior\",\n",
    "                         \"D\" : \"A maior parte em escola pública\",\n",
    "                         \"E\" : \"A maior parte em escola privada\",\n",
    "                         \"F\" : \"Parte no Brasil e parte no exterior\"}\n",
    "\n",
    "dim_ensino_medio = dim_ensino_medio.replace({\"QE_I17\": dicionario_resposta})\n",
    "\n",
    "dicionario_resposta = {\"A\" : \"Ensino médio tradicional\",\n",
    "                         \"B\" : \"Profissionalizante técnico\",\n",
    "                         \"C\" : \"Profissionalizante magistério\",\n",
    "                         \"D\" : \"EJA e/ou Supletivo\",\n",
    "                         \"E\" : \"Outra modalidade\"}\n",
    "\n",
    "dim_ensino_medio = dim_ensino_medio.replace({\"QE_I18\": dicionario_resposta})\n"
   ]
  },
  {
   "cell_type": "code",
   "execution_count": 60,
   "id": "58e17a2f",
   "metadata": {
    "hidden": true
   },
   "outputs": [],
   "source": [
    "dim_ensino_medio = dim_ensino_medio.rename(columns = {\"QE_I17\" : \"TIPO_ESCOLA_EM\",\n",
    "                       \"QE_I18\" : \"MODALIDADE_EM\"})"
   ]
  },
  {
   "cell_type": "code",
   "execution_count": 61,
   "id": "1e8b6575",
   "metadata": {
    "hidden": true
   },
   "outputs": [
    {
     "data": {
      "text/html": [
       "<div>\n",
       "<style scoped>\n",
       "    .dataframe tbody tr th:only-of-type {\n",
       "        vertical-align: middle;\n",
       "    }\n",
       "\n",
       "    .dataframe tbody tr th {\n",
       "        vertical-align: top;\n",
       "    }\n",
       "\n",
       "    .dataframe thead th {\n",
       "        text-align: right;\n",
       "    }\n",
       "</style>\n",
       "<table border=\"1\" class=\"dataframe\">\n",
       "  <thead>\n",
       "    <tr style=\"text-align: right;\">\n",
       "      <th></th>\n",
       "      <th>TIPO_ESCOLA_EM</th>\n",
       "      <th>MODALIDADE_EM</th>\n",
       "    </tr>\n",
       "    <tr>\n",
       "      <th>ID_ALUNO_ENSINO_MEDIO</th>\n",
       "      <th></th>\n",
       "      <th></th>\n",
       "    </tr>\n",
       "  </thead>\n",
       "  <tbody>\n",
       "    <tr>\n",
       "      <th>0</th>\n",
       "      <td>Todo em escola pública</td>\n",
       "      <td>Ensino médio tradicional</td>\n",
       "    </tr>\n",
       "    <tr>\n",
       "      <th>1</th>\n",
       "      <td>Todo em escola pública</td>\n",
       "      <td>Profissionalizante técnico</td>\n",
       "    </tr>\n",
       "    <tr>\n",
       "      <th>2</th>\n",
       "      <td>Todo em escola pública</td>\n",
       "      <td>Profissionalizante magistério</td>\n",
       "    </tr>\n",
       "  </tbody>\n",
       "</table>\n",
       "</div>"
      ],
      "text/plain": [
       "                               TIPO_ESCOLA_EM                  MODALIDADE_EM\n",
       "ID_ALUNO_ENSINO_MEDIO                                                       \n",
       "0                      Todo em escola pública       Ensino médio tradicional\n",
       "1                      Todo em escola pública     Profissionalizante técnico\n",
       "2                      Todo em escola pública  Profissionalizante magistério"
      ]
     },
     "execution_count": 61,
     "metadata": {},
     "output_type": "execute_result"
    }
   ],
   "source": [
    "dim_ensino_medio.head(3)"
   ]
  },
  {
   "cell_type": "markdown",
   "id": "f582fc95",
   "metadata": {
    "heading_collapsed": true
   },
   "source": [
    "## Dimensao Formação Familiares"
   ]
  },
  {
   "cell_type": "code",
   "execution_count": 62,
   "id": "f9f0939d",
   "metadata": {
    "hidden": true
   },
   "outputs": [],
   "source": [
    "df_enade_17_18_19.QE_I04 = np.where(df_enade_17_18_19.QE_I04.isna(), \n",
    "                                    df_enade_17_18_19.QE_I04.value_counts().idxmax(), df_enade_17_18_19.QE_I04)\n",
    "\n",
    "df_enade_17_18_19.QE_I05 = np.where(df_enade_17_18_19.QE_I05.isna(), \n",
    "                                    df_enade_17_18_19.QE_I05.value_counts().idxmax(), df_enade_17_18_19.QE_I05)\n",
    "\n",
    "df_enade_17_18_19.QE_I21 = np.where(df_enade_17_18_19.QE_I21.isna(), \n",
    "                                    df_enade_17_18_19.QE_I21.value_counts().idxmax(), df_enade_17_18_19.QE_I21)"
   ]
  },
  {
   "cell_type": "code",
   "execution_count": 63,
   "id": "0a6ca0c4",
   "metadata": {
    "hidden": true
   },
   "outputs": [],
   "source": [
    "df_enade_17_18_19[\"ID_FORMACAO_FAMILIA\"] = df_enade_17_18_19.groupby(['QE_I04','QE_I05','QE_I21']).ngroup()"
   ]
  },
  {
   "cell_type": "code",
   "execution_count": 64,
   "id": "a08282bc",
   "metadata": {
    "hidden": true
   },
   "outputs": [],
   "source": [
    "dim_formacao_familiares = df_enade_17_18_19[[\"ID_FORMACAO_FAMILIA\",'QE_I04','QE_I05','QE_I21']]\n",
    "dim_formacao_familiares = dim_formacao_familiares.drop_duplicates().set_index(\"ID_FORMACAO_FAMILIA\").sort_index()"
   ]
  },
  {
   "cell_type": "code",
   "execution_count": 65,
   "id": "49059d86",
   "metadata": {
    "hidden": true
   },
   "outputs": [],
   "source": [
    "dicionario_resposta = {\"A\" : \"Nenhuma\",\n",
    "                         \"B\" : \"Ensino Fundamental: 1º ao 5º ano (1ª a 4ª série)\",\n",
    "                         \"C\" : \"Ensino Fundamental: 6º ao 9º ano (5ª a 8ª série)\",\n",
    "                         \"D\" : \"Ensino Médio\",\n",
    "                         \"E\" : \"Ensino Superior - Graduação\",\n",
    "                         \"F\" : \"Pós-graduação\"}\n",
    "\n",
    "dim_formacao_familiares = dim_formacao_familiares.replace({\"QE_I04\": dicionario_resposta})\n",
    "dim_formacao_familiares = dim_formacao_familiares.replace({\"QE_I05\": dicionario_resposta})\n",
    "\n",
    "dicionario_resposta = {\"A\" : \"Sim\",\n",
    "                         \"B\" : \"Não\"}\n",
    "\n",
    "dim_formacao_familiares = dim_formacao_familiares.replace({\"QE_I21\": dicionario_resposta})"
   ]
  },
  {
   "cell_type": "code",
   "execution_count": 66,
   "id": "7974c8a4",
   "metadata": {
    "hidden": true
   },
   "outputs": [],
   "source": [
    "dim_formacao_familiares = dim_formacao_familiares.rename(columns = {\"QE_I04\" : \"ESCOLARIZACAO_PAI\",\n",
    "                       \"QE_I05\" : \"ESCOLARIZACAO_MAE\",\n",
    "                       \"QE_I21\" : \"FAMILIAR_GRADUADO\"})"
   ]
  },
  {
   "cell_type": "code",
   "execution_count": 67,
   "id": "f1dfaeef",
   "metadata": {
    "hidden": true
   },
   "outputs": [
    {
     "data": {
      "text/html": [
       "<div>\n",
       "<style scoped>\n",
       "    .dataframe tbody tr th:only-of-type {\n",
       "        vertical-align: middle;\n",
       "    }\n",
       "\n",
       "    .dataframe tbody tr th {\n",
       "        vertical-align: top;\n",
       "    }\n",
       "\n",
       "    .dataframe thead th {\n",
       "        text-align: right;\n",
       "    }\n",
       "</style>\n",
       "<table border=\"1\" class=\"dataframe\">\n",
       "  <thead>\n",
       "    <tr style=\"text-align: right;\">\n",
       "      <th></th>\n",
       "      <th>ESCOLARIZACAO_PAI</th>\n",
       "      <th>ESCOLARIZACAO_MAE</th>\n",
       "      <th>FAMILIAR_GRADUADO</th>\n",
       "    </tr>\n",
       "    <tr>\n",
       "      <th>ID_FORMACAO_FAMILIA</th>\n",
       "      <th></th>\n",
       "      <th></th>\n",
       "      <th></th>\n",
       "    </tr>\n",
       "  </thead>\n",
       "  <tbody>\n",
       "    <tr>\n",
       "      <th>0</th>\n",
       "      <td>Nenhuma</td>\n",
       "      <td>Nenhuma</td>\n",
       "      <td>Sim</td>\n",
       "    </tr>\n",
       "    <tr>\n",
       "      <th>1</th>\n",
       "      <td>Nenhuma</td>\n",
       "      <td>Nenhuma</td>\n",
       "      <td>Não</td>\n",
       "    </tr>\n",
       "    <tr>\n",
       "      <th>2</th>\n",
       "      <td>Nenhuma</td>\n",
       "      <td>Ensino Fundamental: 1º ao 5º ano (1ª a 4ª série)</td>\n",
       "      <td>Sim</td>\n",
       "    </tr>\n",
       "    <tr>\n",
       "      <th>3</th>\n",
       "      <td>Nenhuma</td>\n",
       "      <td>Ensino Fundamental: 1º ao 5º ano (1ª a 4ª série)</td>\n",
       "      <td>Não</td>\n",
       "    </tr>\n",
       "    <tr>\n",
       "      <th>4</th>\n",
       "      <td>Nenhuma</td>\n",
       "      <td>Ensino Fundamental: 6º ao 9º ano (5ª a 8ª série)</td>\n",
       "      <td>Sim</td>\n",
       "    </tr>\n",
       "  </tbody>\n",
       "</table>\n",
       "</div>"
      ],
      "text/plain": [
       "                    ESCOLARIZACAO_PAI  \\\n",
       "ID_FORMACAO_FAMILIA                     \n",
       "0                             Nenhuma   \n",
       "1                             Nenhuma   \n",
       "2                             Nenhuma   \n",
       "3                             Nenhuma   \n",
       "4                             Nenhuma   \n",
       "\n",
       "                                                    ESCOLARIZACAO_MAE  \\\n",
       "ID_FORMACAO_FAMILIA                                                     \n",
       "0                                                             Nenhuma   \n",
       "1                                                             Nenhuma   \n",
       "2                    Ensino Fundamental: 1º ao 5º ano (1ª a 4ª série)   \n",
       "3                    Ensino Fundamental: 1º ao 5º ano (1ª a 4ª série)   \n",
       "4                    Ensino Fundamental: 6º ao 9º ano (5ª a 8ª série)   \n",
       "\n",
       "                    FAMILIAR_GRADUADO  \n",
       "ID_FORMACAO_FAMILIA                    \n",
       "0                                 Sim  \n",
       "1                                 Não  \n",
       "2                                 Sim  \n",
       "3                                 Não  \n",
       "4                                 Sim  "
      ]
     },
     "execution_count": 67,
     "metadata": {},
     "output_type": "execute_result"
    }
   ],
   "source": [
    "dim_formacao_familiares.head(5)"
   ]
  },
  {
   "cell_type": "markdown",
   "id": "90313893",
   "metadata": {
    "heading_collapsed": true
   },
   "source": [
    "## Dimensao Oportunidades"
   ]
  },
  {
   "cell_type": "code",
   "execution_count": 68,
   "id": "430fbeb8",
   "metadata": {
    "hidden": true
   },
   "outputs": [],
   "source": [
    "df_enade_17_18_19.QE_I24 = np.where(df_enade_17_18_19.QE_I24.isna(), \"Não Respondeu\", df_enade_17_18_19.QE_I24)\n",
    "df_enade_17_18_19.QE_I43 = np.where(df_enade_17_18_19.QE_I43.isna(), \"Não Respondeu\", df_enade_17_18_19.QE_I43)\n",
    "df_enade_17_18_19.QE_I44 = np.where(df_enade_17_18_19.QE_I44.isna(), \"Não Respondeu\", df_enade_17_18_19.QE_I44)\n",
    "df_enade_17_18_19.QE_I52 = np.where(df_enade_17_18_19.QE_I52.isna(), \"Não Respondeu\", df_enade_17_18_19.QE_I52)\n",
    "df_enade_17_18_19.QE_I53 = np.where(df_enade_17_18_19.QE_I53.isna(), \"Não Respondeu\", df_enade_17_18_19.QE_I53)"
   ]
  },
  {
   "cell_type": "code",
   "execution_count": 69,
   "id": "a9831e4a",
   "metadata": {
    "hidden": true
   },
   "outputs": [],
   "source": [
    "df_enade_17_18_19[\"ID_OPORTUNIDADES\"] = df_enade_17_18_19.groupby(['QE_I14','QE_I24','QE_I43', 'QE_I44','QE_I52','QE_I53']).ngroup()"
   ]
  },
  {
   "cell_type": "code",
   "execution_count": 70,
   "id": "cdf072ee",
   "metadata": {
    "hidden": true
   },
   "outputs": [],
   "source": [
    "dim_oportunidades = df_enade_17_18_19[[\"ID_OPORTUNIDADES\",'QE_I14','QE_I24','QE_I43', 'QE_I44','QE_I52','QE_I53']]\n",
    "dim_oportunidades = dim_oportunidades.drop_duplicates().set_index(\"ID_OPORTUNIDADES\").sort_index()"
   ]
  },
  {
   "cell_type": "code",
   "execution_count": 71,
   "id": "b845fd45",
   "metadata": {
    "hidden": true
   },
   "outputs": [],
   "source": [
    "dicionario_resposta = {\"A\" : \"Não participei\",\n",
    "                         \"B\" : \"Programa Ciência sem Fronteiras\",\n",
    "                         \"C\" : \"Programa de intercâmbio financiado pelo Governo Federal\",\n",
    "                         \"D\" : \"Programa de intercâmbio financiado pelo Governo Estadual\",\n",
    "                         \"E\" : \"Programa de intercâmbio da minha instituição\",\n",
    "                         \"F\" : \"Outro intercâmbio não institucional\"}\n",
    "\n",
    "dim_oportunidades = dim_oportunidades.replace({\"QE_I14\": dicionario_resposta})\n",
    "\n",
    "dicionario_resposta = {\"A\" : \"Modalidade presencial\",\n",
    "                         \"B\" : \"Modalidade semipresencial\",\n",
    "                         \"C\" : \"Parte presencial e parte semipresencial\",\n",
    "                         \"D\" : \"A distância\",\n",
    "                         \"E\" : \"Não\"}\n",
    "\n",
    "dim_oportunidades = dim_oportunidades.replace({\"QE_I24\": dicionario_resposta})\n",
    "\n",
    "dicionario_resposta = {1 : \"Discordo Totalmente\",\n",
    "                        2 : \"Discordo Parcialmente\",\n",
    "                        3 : \"Nem Discordo Nem Concordo\",\n",
    "                        4: \"Concordo Um Pouco\",\n",
    "                        5: \"Concordo Bastante\",\n",
    "                        6:\"Concordo Totalmente\",\n",
    "                        7:\"Não sei responder\",\n",
    "                        8:\"Não se aplica\",\n",
    "                        \"1\" : \"Discordo Totalmente\",\n",
    "                        \"2\" : \"Discordo Parcialmente\",\n",
    "                        \"3\" : \"Nem Discordo Nem Concordo\",\n",
    "                        \"4\": \"Concordo Um Pouco\",\n",
    "                        \"5\": \"Concordo Bastante\",\n",
    "                        \"6\":\"Concordo Totalmente\",\n",
    "                        \"7\":\"Não sei responder\",\n",
    "                        \"8\":\"Não se aplica\"}\n",
    "\n",
    "dim_oportunidades = dim_oportunidades.replace({\"QE_I43\": dicionario_resposta})\n",
    "dim_oportunidades = dim_oportunidades.replace({\"QE_I44\": dicionario_resposta})\n",
    "dim_oportunidades = dim_oportunidades.replace({\"QE_I52\": dicionario_resposta})\n",
    "dim_oportunidades = dim_oportunidades.replace({\"QE_I53\": dicionario_resposta})"
   ]
  },
  {
   "cell_type": "code",
   "execution_count": 72,
   "id": "5395fb5f",
   "metadata": {
    "hidden": true
   },
   "outputs": [],
   "source": [
    "dim_oportunidades = dim_oportunidades.rename(columns =  {\"QE_I14\" : \"ATIVIDADES_CURRICURALES_EXTERIOR\",\n",
    "                         \"QE_I24\" : \"IDIOMA_ESTRANGEIRO\",\n",
    "                         \"QE_I43\" : \"EXTENSAO_UNIVERSITARIA\",\n",
    "                         \"QE_I44\" : \"ATIVIDADES_INVESTIGACAO_ACADEMICA\",\n",
    "                         \"QE_I52\" : \"INTERCAMBIO_ESTAGIO_PAIS\",\n",
    "                         \"QE_I53\" : \"INTERCAMBIO_ESTAGIO_FORA_DO_PAIS\"})"
   ]
  },
  {
   "cell_type": "code",
   "execution_count": 73,
   "id": "22ab645e",
   "metadata": {
    "hidden": true
   },
   "outputs": [
    {
     "data": {
      "text/html": [
       "<div>\n",
       "<style scoped>\n",
       "    .dataframe tbody tr th:only-of-type {\n",
       "        vertical-align: middle;\n",
       "    }\n",
       "\n",
       "    .dataframe tbody tr th {\n",
       "        vertical-align: top;\n",
       "    }\n",
       "\n",
       "    .dataframe thead th {\n",
       "        text-align: right;\n",
       "    }\n",
       "</style>\n",
       "<table border=\"1\" class=\"dataframe\">\n",
       "  <thead>\n",
       "    <tr style=\"text-align: right;\">\n",
       "      <th></th>\n",
       "      <th>ATIVIDADES_CURRICURALES_EXTERIOR</th>\n",
       "      <th>IDIOMA_ESTRANGEIRO</th>\n",
       "      <th>EXTENSAO_UNIVERSITARIA</th>\n",
       "      <th>ATIVIDADES_INVESTIGACAO_ACADEMICA</th>\n",
       "      <th>INTERCAMBIO_ESTAGIO_PAIS</th>\n",
       "      <th>INTERCAMBIO_ESTAGIO_FORA_DO_PAIS</th>\n",
       "    </tr>\n",
       "    <tr>\n",
       "      <th>ID_OPORTUNIDADES</th>\n",
       "      <th></th>\n",
       "      <th></th>\n",
       "      <th></th>\n",
       "      <th></th>\n",
       "      <th></th>\n",
       "      <th></th>\n",
       "    </tr>\n",
       "  </thead>\n",
       "  <tbody>\n",
       "    <tr>\n",
       "      <th>0</th>\n",
       "      <td>Não participei</td>\n",
       "      <td>Modalidade presencial</td>\n",
       "      <td>Discordo Totalmente</td>\n",
       "      <td>Discordo Totalmente</td>\n",
       "      <td>Discordo Totalmente</td>\n",
       "      <td>Discordo Totalmente</td>\n",
       "    </tr>\n",
       "    <tr>\n",
       "      <th>1</th>\n",
       "      <td>Não participei</td>\n",
       "      <td>Modalidade presencial</td>\n",
       "      <td>Discordo Totalmente</td>\n",
       "      <td>Discordo Totalmente</td>\n",
       "      <td>Discordo Totalmente</td>\n",
       "      <td>Discordo Parcialmente</td>\n",
       "    </tr>\n",
       "    <tr>\n",
       "      <th>2</th>\n",
       "      <td>Não participei</td>\n",
       "      <td>Modalidade presencial</td>\n",
       "      <td>Discordo Totalmente</td>\n",
       "      <td>Discordo Totalmente</td>\n",
       "      <td>Discordo Totalmente</td>\n",
       "      <td>Nem Discordo Nem Concordo</td>\n",
       "    </tr>\n",
       "    <tr>\n",
       "      <th>3</th>\n",
       "      <td>Não participei</td>\n",
       "      <td>Modalidade presencial</td>\n",
       "      <td>Discordo Totalmente</td>\n",
       "      <td>Discordo Totalmente</td>\n",
       "      <td>Discordo Totalmente</td>\n",
       "      <td>Concordo Um Pouco</td>\n",
       "    </tr>\n",
       "  </tbody>\n",
       "</table>\n",
       "</div>"
      ],
      "text/plain": [
       "                 ATIVIDADES_CURRICURALES_EXTERIOR     IDIOMA_ESTRANGEIRO  \\\n",
       "ID_OPORTUNIDADES                                                           \n",
       "0                                  Não participei  Modalidade presencial   \n",
       "1                                  Não participei  Modalidade presencial   \n",
       "2                                  Não participei  Modalidade presencial   \n",
       "3                                  Não participei  Modalidade presencial   \n",
       "\n",
       "                 EXTENSAO_UNIVERSITARIA ATIVIDADES_INVESTIGACAO_ACADEMICA  \\\n",
       "ID_OPORTUNIDADES                                                            \n",
       "0                   Discordo Totalmente               Discordo Totalmente   \n",
       "1                   Discordo Totalmente               Discordo Totalmente   \n",
       "2                   Discordo Totalmente               Discordo Totalmente   \n",
       "3                   Discordo Totalmente               Discordo Totalmente   \n",
       "\n",
       "                 INTERCAMBIO_ESTAGIO_PAIS INTERCAMBIO_ESTAGIO_FORA_DO_PAIS  \n",
       "ID_OPORTUNIDADES                                                            \n",
       "0                     Discordo Totalmente              Discordo Totalmente  \n",
       "1                     Discordo Totalmente            Discordo Parcialmente  \n",
       "2                     Discordo Totalmente        Nem Discordo Nem Concordo  \n",
       "3                     Discordo Totalmente                Concordo Um Pouco  "
      ]
     },
     "execution_count": 73,
     "metadata": {},
     "output_type": "execute_result"
    }
   ],
   "source": [
    "dim_oportunidades.head(4)"
   ]
  },
  {
   "cell_type": "markdown",
   "id": "84b24658",
   "metadata": {},
   "source": [
    "## Dimensao Aluno Economico"
   ]
  },
  {
   "cell_type": "code",
   "execution_count": 74,
   "id": "fbe29167",
   "metadata": {},
   "outputs": [],
   "source": [
    "df_enade_17_18_19.QE_I07 = np.where(df_enade_17_18_19.QE_I07.isna(), \n",
    "                                    df_enade_17_18_19.QE_I07.value_counts().idxmax(), df_enade_17_18_19.QE_I07)\n",
    "\n",
    "df_enade_17_18_19.QE_I08 = np.where(df_enade_17_18_19.QE_I08.isna(), \n",
    "                                    df_enade_17_18_19.QE_I08.value_counts().idxmax(), df_enade_17_18_19.QE_I08)\n",
    "\n",
    "df_enade_17_18_19.QE_I10 = np.where(df_enade_17_18_19.QE_I10.isna(), \n",
    "                                    df_enade_17_18_19.QE_I10.value_counts().idxmax(), df_enade_17_18_19.QE_I10)\n",
    "\n",
    "df_enade_17_18_19.QE_I12 = np.where(df_enade_17_18_19.QE_I12.isna(), \n",
    "                                    df_enade_17_18_19.QE_I12.value_counts().idxmax(), df_enade_17_18_19.QE_I12)\n",
    "\n",
    "df_enade_17_18_19.QE_I15 = np.where(df_enade_17_18_19.QE_I15.isna(), \n",
    "                                    df_enade_17_18_19.QE_I15.value_counts().idxmax(), df_enade_17_18_19.QE_I15)"
   ]
  },
  {
   "cell_type": "code",
   "execution_count": 75,
   "id": "dd63ce89",
   "metadata": {},
   "outputs": [],
   "source": [
    "dim_aluno_econ = df_enade_17_18_19[['QE_I07','QE_I08','QE_I10','QE_I12','QE_I15']].copy()"
   ]
  },
  {
   "cell_type": "code",
   "execution_count": 76,
   "id": "6437ab1a",
   "metadata": {},
   "outputs": [],
   "source": [
    "dicionario_resposta = {\"A\" : \"Nenhum\",\n",
    "                             \"B\" : \"Auxílio moradia\",\n",
    "                             \"C\" : \"Auxílio alimentação\",\n",
    "                             \"D\" : \"Auxílio moradia e alimentação\",\n",
    "                             \"E\" : \"Auxílio permanência\",\n",
    "                             \"F\" : \"Outro tipo de auxílio\"}\n",
    "\n",
    "dim_aluno_econ = dim_aluno_econ.replace({\"QE_I12\": dicionario_resposta})\n",
    "\n",
    "dicionario_resposta = {\"A\" : \"Não\",\n",
    "                             \"B\" : \"Critério étnico-racial\",\n",
    "                             \"C\" : \"Critério de renda\",\n",
    "                             \"D\" : \"Critério escola pública ou particular com bolsa de estudos\",\n",
    "                             \"E\" : \"Combinação de dois ou mais critérios\",\n",
    "                             \"F\" : \"Outro Critério\"}\n",
    "\n",
    "dim_aluno_econ = dim_aluno_econ.replace({\"QE_I15\": dicionario_resposta})\n",
    "\n",
    "dicionario_resposta = {\"A\" : \"Não estou trabalhando.\",\n",
    "                         \"B\" : \"Trabalho eventualmente.\",\n",
    "                         \"C\" : \"Trabalho até 20 horas semanais.\",\n",
    "                         \"D\" : \"Trabalho de 21 a 39 horas semanais.\",\n",
    "                         \"E\" : \"Trabalho 40 horas semanais ou mais.\"}\n",
    "\n",
    "dim_aluno_econ = dim_aluno_econ.replace({\"QE_I10\": dicionario_resposta})\n",
    "\n",
    "dicionario_resposta = {\"A\" : \"Até 1,5 salário mínimo\",\n",
    "                       \"B\" : \"De 1,5 a 3 salários mínimos\",\n",
    "                       \"C\" : \"De 3 a 4,5 salários mínimos\",\n",
    "                       \"D\" : \"De 4,5 a 6 salários mínimos\",\n",
    "                       \"E\" : \"De 6 a 10 salários mínimos\",\n",
    "                       \"F\" : \"De 10 a 30 salários mínimos\",\n",
    "                       \"G\" : \"Acima de 30 salários mínimos\"}\n",
    "\n",
    "dim_aluno_econ = dim_aluno_econ.replace({\"QE_I08\": dicionario_resposta})\n",
    "\n",
    "\n",
    "dicionario_resposta = {\"A\" : \"Nenhuma\",\n",
    "                         \"B\" : \"Uma\",\n",
    "                         \"C\" : \"Duas\",\n",
    "                         \"D\" : \"Três\",\n",
    "                         \"E\" : \"Quatro\",\n",
    "                         \"F\" : \"Cinco\",\n",
    "                         \"G\" : \"Seis\",\n",
    "                         \"H\" : \"Sete ou mais\"}\n",
    "\n",
    "dim_aluno_econ = dim_aluno_econ.replace({\"QE_I07\": dicionario_resposta})"
   ]
  },
  {
   "cell_type": "code",
   "execution_count": 77,
   "id": "74157fd9",
   "metadata": {},
   "outputs": [
    {
     "data": {
      "text/plain": [
       "D    318079\n",
       "C    301603\n",
       "B    208137\n",
       "E    177639\n",
       "A    165505\n",
       "F     74013\n",
       "G     27492\n",
       "H     19303\n",
       "Name: QE_I07, dtype: int64"
      ]
     },
     "execution_count": 77,
     "metadata": {},
     "output_type": "execute_result"
    }
   ],
   "source": [
    "df_enade_17_18_19.QE_I07.value_counts(dropna = False)"
   ]
  },
  {
   "cell_type": "code",
   "execution_count": 78,
   "id": "18943e99",
   "metadata": {},
   "outputs": [],
   "source": [
    "dim_aluno_econ[\"ID_ALUNO_ECONOMICO\"] = dim_aluno_econ.groupby(['QE_I07','QE_I08','QE_I10',\n",
    "                                                                     'QE_I12','QE_I15']).ngroup()\n",
    "\n",
    "df_enade_17_18_19[\"ID_ALUNO_ECONOMICO\"] = dim_aluno_econ[\"ID_ALUNO_ECONOMICO\"].copy()\n",
    "dim_aluno_econ = dim_aluno_econ.drop_duplicates().set_index(\"ID_ALUNO_ECONOMICO\").sort_index()"
   ]
  },
  {
   "cell_type": "code",
   "execution_count": 79,
   "id": "f6c921d1",
   "metadata": {
    "run_control": {
     "marked": true
    }
   },
   "outputs": [],
   "source": [
    "dim_aluno_econ = dim_aluno_econ.rename(columns = {\"QE_I08\" : \"RENDA_FAMILIAR\",\n",
    "                       \"QE_I10\" : \"HORAS_TRABALHO\",\n",
    "                       \"QE_I12\" : \"AUXILIO_RECEBIDO\",\n",
    "                       \"QE_I15\" : \"ENTROU_POR_COTA\",\n",
    "                       \"QE_I07\" : \"PESSOAS_MORAM_JUNTO\"})"
   ]
  },
  {
   "cell_type": "code",
   "execution_count": 80,
   "id": "3f2ce2d5",
   "metadata": {},
   "outputs": [
    {
     "data": {
      "text/html": [
       "<div>\n",
       "<style scoped>\n",
       "    .dataframe tbody tr th:only-of-type {\n",
       "        vertical-align: middle;\n",
       "    }\n",
       "\n",
       "    .dataframe tbody tr th {\n",
       "        vertical-align: top;\n",
       "    }\n",
       "\n",
       "    .dataframe thead th {\n",
       "        text-align: right;\n",
       "    }\n",
       "</style>\n",
       "<table border=\"1\" class=\"dataframe\">\n",
       "  <thead>\n",
       "    <tr style=\"text-align: right;\">\n",
       "      <th></th>\n",
       "      <th>PESSOAS_MORAM_JUNTO</th>\n",
       "      <th>RENDA_FAMILIAR</th>\n",
       "      <th>HORAS_TRABALHO</th>\n",
       "      <th>AUXILIO_RECEBIDO</th>\n",
       "      <th>ENTROU_POR_COTA</th>\n",
       "    </tr>\n",
       "    <tr>\n",
       "      <th>ID_ALUNO_ECONOMICO</th>\n",
       "      <th></th>\n",
       "      <th></th>\n",
       "      <th></th>\n",
       "      <th></th>\n",
       "      <th></th>\n",
       "    </tr>\n",
       "  </thead>\n",
       "  <tbody>\n",
       "    <tr>\n",
       "      <th>0</th>\n",
       "      <td>Cinco</td>\n",
       "      <td>Acima de 30 salários mínimos</td>\n",
       "      <td>Não estou trabalhando.</td>\n",
       "      <td>Auxílio alimentação</td>\n",
       "      <td>Não</td>\n",
       "    </tr>\n",
       "    <tr>\n",
       "      <th>1</th>\n",
       "      <td>Cinco</td>\n",
       "      <td>Acima de 30 salários mínimos</td>\n",
       "      <td>Não estou trabalhando.</td>\n",
       "      <td>Auxílio moradia e alimentação</td>\n",
       "      <td>Não</td>\n",
       "    </tr>\n",
       "    <tr>\n",
       "      <th>2</th>\n",
       "      <td>Cinco</td>\n",
       "      <td>Acima de 30 salários mínimos</td>\n",
       "      <td>Não estou trabalhando.</td>\n",
       "      <td>Nenhum</td>\n",
       "      <td>Combinação de dois ou mais critérios</td>\n",
       "    </tr>\n",
       "  </tbody>\n",
       "</table>\n",
       "</div>"
      ],
      "text/plain": [
       "                   PESSOAS_MORAM_JUNTO                RENDA_FAMILIAR  \\\n",
       "ID_ALUNO_ECONOMICO                                                     \n",
       "0                                Cinco  Acima de 30 salários mínimos   \n",
       "1                                Cinco  Acima de 30 salários mínimos   \n",
       "2                                Cinco  Acima de 30 salários mínimos   \n",
       "\n",
       "                            HORAS_TRABALHO               AUXILIO_RECEBIDO  \\\n",
       "ID_ALUNO_ECONOMICO                                                          \n",
       "0                   Não estou trabalhando.            Auxílio alimentação   \n",
       "1                   Não estou trabalhando.  Auxílio moradia e alimentação   \n",
       "2                   Não estou trabalhando.                         Nenhum   \n",
       "\n",
       "                                         ENTROU_POR_COTA  \n",
       "ID_ALUNO_ECONOMICO                                        \n",
       "0                                                    Não  \n",
       "1                                                    Não  \n",
       "2                   Combinação de dois ou mais critérios  "
      ]
     },
     "execution_count": 80,
     "metadata": {},
     "output_type": "execute_result"
    }
   ],
   "source": [
    "dim_aluno_econ.head(3)"
   ]
  },
  {
   "cell_type": "markdown",
   "id": "9ed817fa",
   "metadata": {
    "heading_collapsed": true
   },
   "source": [
    "## Dimensao Percepcao Prova"
   ]
  },
  {
   "cell_type": "code",
   "execution_count": 81,
   "id": "8dfef4c0",
   "metadata": {
    "hidden": true
   },
   "outputs": [],
   "source": [
    "dim_percepcao_prova = df_enade_17_18_19[['CO_RS_I1','CO_RS_I2','CO_RS_I8','CO_RS_I9']].copy()"
   ]
  },
  {
   "cell_type": "code",
   "execution_count": 82,
   "id": "3331a1b1",
   "metadata": {
    "hidden": true
   },
   "outputs": [],
   "source": [
    "dicionario_resposta = {\"A\" : \"Muito fácil\",\n",
    "                       \"B\" : \"Fácil\",\n",
    "                       \"C\" : \"Médio\",\n",
    "                       \"D\" : \"Difícil\",\n",
    "                       \"E\" : \"Muito difícil\",\n",
    "                       \"*\" : \"Resposta anulada\",\n",
    "                       \".\" : \"Não respondeu \"}\n",
    "\n",
    "dim_percepcao_prova = dim_percepcao_prova.replace({\"CO_RS_I1\": dicionario_resposta})\n",
    "dim_percepcao_prova = dim_percepcao_prova.replace({\"CO_RS_I2\": dicionario_resposta})\n",
    "\n",
    "dicionario_resposta = {\"A\" : \"Não estudou a maioria\",\n",
    "                       \"B\" : \"Estudou alguns, mas nao aprendeu\",\n",
    "                       \"C\" : \"Estudou a maioria, mas nao aprendeu\",\n",
    "                       \"D\" : \"Estudou e aprendeu muitos\",\n",
    "                       \"E\" : \"Estudou e aprendeu todos\",\n",
    "                       \"*\" : \"Resposta anulada\",\n",
    "                       \".\" : \"Não respondeu \"}\n",
    "\n",
    "dim_percepcao_prova = dim_percepcao_prova.replace({\"CO_RS_I8\": dicionario_resposta})\n",
    "\n",
    "dicionario_resposta = {\"A\" : 0.5,\n",
    "                       \"B\" : 1.5,\n",
    "                       \"C\" : 2.5,\n",
    "                       \"D\" : 3.5,\n",
    "                       \"E\" : 4.5,\n",
    "                       \"*\" : \"Resposta anulada\",\n",
    "                       \".\" : \"Não respondeu \"}\n",
    "\n",
    "dim_percepcao_prova = dim_percepcao_prova.replace({\"CO_RS_I9\": dicionario_resposta})"
   ]
  },
  {
   "cell_type": "code",
   "execution_count": 83,
   "id": "0550de72",
   "metadata": {
    "hidden": true
   },
   "outputs": [],
   "source": [
    "dim_percepcao_prova[\"ID_PERCEPCAO_PROVA\"] = dim_percepcao_prova.groupby(['CO_RS_I1','CO_RS_I2',\n",
    "                                                                         'CO_RS_I8','CO_RS_I9']).ngroup()\n",
    "\n",
    "df_enade_17_18_19[\"ID_PERCEPCAO_PROVA\"] = dim_percepcao_prova[\"ID_PERCEPCAO_PROVA\"].copy()\n",
    "dim_percepcao_prova = dim_percepcao_prova.drop_duplicates().set_index(\"ID_PERCEPCAO_PROVA\").sort_index()"
   ]
  },
  {
   "cell_type": "code",
   "execution_count": 84,
   "id": "2e869d6e",
   "metadata": {
    "hidden": true
   },
   "outputs": [],
   "source": [
    "dim_percepcao_prova = dim_percepcao_prova.rename(columns = {\"CO_RS_I1\" : \"GRAU_DIFICULDADE_FG\",\n",
    "                                                   \"CO_RS_I2\" : \"GRAU_DIFICULDADE_CE\",\n",
    "                                                   \"CO_RS_I8\" : \"PERCEPCAO_ESTUDO_CONTEUDO\",\n",
    "                                                   \"CO_RS_I9\" : \"TEMPO_GASTO_PROVA\"})"
   ]
  },
  {
   "cell_type": "code",
   "execution_count": 85,
   "id": "145cd0bd",
   "metadata": {
    "hidden": true
   },
   "outputs": [
    {
     "data": {
      "text/html": [
       "<div>\n",
       "<style scoped>\n",
       "    .dataframe tbody tr th:only-of-type {\n",
       "        vertical-align: middle;\n",
       "    }\n",
       "\n",
       "    .dataframe tbody tr th {\n",
       "        vertical-align: top;\n",
       "    }\n",
       "\n",
       "    .dataframe thead th {\n",
       "        text-align: right;\n",
       "    }\n",
       "</style>\n",
       "<table border=\"1\" class=\"dataframe\">\n",
       "  <thead>\n",
       "    <tr style=\"text-align: right;\">\n",
       "      <th></th>\n",
       "      <th>GRAU_DIFICULDADE_FG</th>\n",
       "      <th>GRAU_DIFICULDADE_CE</th>\n",
       "      <th>PERCEPCAO_ESTUDO_CONTEUDO</th>\n",
       "      <th>TEMPO_GASTO_PROVA</th>\n",
       "    </tr>\n",
       "    <tr>\n",
       "      <th>ID_PERCEPCAO_PROVA</th>\n",
       "      <th></th>\n",
       "      <th></th>\n",
       "      <th></th>\n",
       "      <th></th>\n",
       "    </tr>\n",
       "  </thead>\n",
       "  <tbody>\n",
       "    <tr>\n",
       "      <th>0</th>\n",
       "      <td>Difícil</td>\n",
       "      <td>Difícil</td>\n",
       "      <td>Estudou a maioria, mas nao aprendeu</td>\n",
       "      <td>0.5</td>\n",
       "    </tr>\n",
       "    <tr>\n",
       "      <th>1</th>\n",
       "      <td>Difícil</td>\n",
       "      <td>Difícil</td>\n",
       "      <td>Estudou a maioria, mas nao aprendeu</td>\n",
       "      <td>1.5</td>\n",
       "    </tr>\n",
       "    <tr>\n",
       "      <th>2</th>\n",
       "      <td>Difícil</td>\n",
       "      <td>Difícil</td>\n",
       "      <td>Estudou a maioria, mas nao aprendeu</td>\n",
       "      <td>2.5</td>\n",
       "    </tr>\n",
       "    <tr>\n",
       "      <th>3</th>\n",
       "      <td>Difícil</td>\n",
       "      <td>Difícil</td>\n",
       "      <td>Estudou a maioria, mas nao aprendeu</td>\n",
       "      <td>3.5</td>\n",
       "    </tr>\n",
       "  </tbody>\n",
       "</table>\n",
       "</div>"
      ],
      "text/plain": [
       "                   GRAU_DIFICULDADE_FG GRAU_DIFICULDADE_CE  \\\n",
       "ID_PERCEPCAO_PROVA                                           \n",
       "0                              Difícil             Difícil   \n",
       "1                              Difícil             Difícil   \n",
       "2                              Difícil             Difícil   \n",
       "3                              Difícil             Difícil   \n",
       "\n",
       "                              PERCEPCAO_ESTUDO_CONTEUDO TEMPO_GASTO_PROVA  \n",
       "ID_PERCEPCAO_PROVA                                                         \n",
       "0                   Estudou a maioria, mas nao aprendeu               0.5  \n",
       "1                   Estudou a maioria, mas nao aprendeu               1.5  \n",
       "2                   Estudou a maioria, mas nao aprendeu               2.5  \n",
       "3                   Estudou a maioria, mas nao aprendeu               3.5  "
      ]
     },
     "execution_count": 85,
     "metadata": {},
     "output_type": "execute_result"
    }
   ],
   "source": [
    "dim_percepcao_prova.head(4)"
   ]
  },
  {
   "cell_type": "markdown",
   "id": "ac002e16",
   "metadata": {},
   "source": [
    "## Tabela Fato"
   ]
  },
  {
   "cell_type": "code",
   "execution_count": 86,
   "id": "d3d0b7ab",
   "metadata": {},
   "outputs": [],
   "source": [
    "colunas_ID = [col for col in df_enade_17_18_19 if col.startswith('ID_') or col.startswith('CO_MUNIC')]"
   ]
  },
  {
   "cell_type": "code",
   "execution_count": 87,
   "id": "d1406337",
   "metadata": {},
   "outputs": [],
   "source": [
    "fato_prova = df_enade_17_18_19[colunas_ID + [\"NT_GER\", \"NT_FG\", \"NT_CE\"]]\n",
    "\n",
    "fato_prova = fato_prova.replace(\",\", \".\", regex=True)\n",
    "fato_prova[[\"NT_GER\", \"NT_FG\", \"NT_CE\"]] = fato_prova[[\"NT_GER\", \"NT_FG\", \"NT_CE\"]].astype(float)\n",
    "fato_prova.index.name = \"ID_PROVA\""
   ]
  },
  {
   "cell_type": "code",
   "execution_count": 88,
   "id": "bd731873",
   "metadata": {},
   "outputs": [
    {
     "data": {
      "text/html": [
       "<div>\n",
       "<style scoped>\n",
       "    .dataframe tbody tr th:only-of-type {\n",
       "        vertical-align: middle;\n",
       "    }\n",
       "\n",
       "    .dataframe tbody tr th {\n",
       "        vertical-align: top;\n",
       "    }\n",
       "\n",
       "    .dataframe thead th {\n",
       "        text-align: right;\n",
       "    }\n",
       "</style>\n",
       "<table border=\"1\" class=\"dataframe\">\n",
       "  <thead>\n",
       "    <tr style=\"text-align: right;\">\n",
       "      <th></th>\n",
       "      <th>ID_TEMPO</th>\n",
       "      <th>CO_MUNIC_CURSO</th>\n",
       "      <th>ID_CURSO</th>\n",
       "      <th>ID_IES_ANO</th>\n",
       "      <th>ID_PRESENCA</th>\n",
       "      <th>ID_ALUNO_INFO</th>\n",
       "      <th>ID_ALUNO_ENSINO_MEDIO</th>\n",
       "      <th>ID_FORMACAO_FAMILIA</th>\n",
       "      <th>ID_OPORTUNIDADES</th>\n",
       "      <th>ID_ALUNO_ECONOMICO</th>\n",
       "      <th>ID_PERCEPCAO_PROVA</th>\n",
       "      <th>NT_GER</th>\n",
       "      <th>NT_FG</th>\n",
       "      <th>NT_CE</th>\n",
       "    </tr>\n",
       "    <tr>\n",
       "      <th>ID_PROVA</th>\n",
       "      <th></th>\n",
       "      <th></th>\n",
       "      <th></th>\n",
       "      <th></th>\n",
       "      <th></th>\n",
       "      <th></th>\n",
       "      <th></th>\n",
       "      <th></th>\n",
       "      <th></th>\n",
       "      <th></th>\n",
       "      <th></th>\n",
       "      <th></th>\n",
       "      <th></th>\n",
       "      <th></th>\n",
       "    </tr>\n",
       "  </thead>\n",
       "  <tbody>\n",
       "    <tr>\n",
       "      <th>0</th>\n",
       "      <td>2017</td>\n",
       "      <td>5103403</td>\n",
       "      <td>117</td>\n",
       "      <td>0</td>\n",
       "      <td>15</td>\n",
       "      <td>1940</td>\n",
       "      <td>5</td>\n",
       "      <td>46</td>\n",
       "      <td>12892</td>\n",
       "      <td>2011</td>\n",
       "      <td>1061</td>\n",
       "      <td>52.6</td>\n",
       "      <td>64.1</td>\n",
       "      <td>48.7</td>\n",
       "    </tr>\n",
       "    <tr>\n",
       "      <th>1</th>\n",
       "      <td>2017</td>\n",
       "      <td>5103403</td>\n",
       "      <td>117</td>\n",
       "      <td>0</td>\n",
       "      <td>15</td>\n",
       "      <td>974</td>\n",
       "      <td>1</td>\n",
       "      <td>54</td>\n",
       "      <td>13992</td>\n",
       "      <td>5723</td>\n",
       "      <td>101</td>\n",
       "      <td>63.1</td>\n",
       "      <td>82.1</td>\n",
       "      <td>56.7</td>\n",
       "    </tr>\n",
       "    <tr>\n",
       "      <th>2</th>\n",
       "      <td>2017</td>\n",
       "      <td>5103403</td>\n",
       "      <td>117</td>\n",
       "      <td>0</td>\n",
       "      <td>11</td>\n",
       "      <td>1123</td>\n",
       "      <td>5</td>\n",
       "      <td>58</td>\n",
       "      <td>27</td>\n",
       "      <td>2935</td>\n",
       "      <td>61</td>\n",
       "      <td>33.7</td>\n",
       "      <td>52.5</td>\n",
       "      <td>27.4</td>\n",
       "    </tr>\n",
       "    <tr>\n",
       "      <th>3</th>\n",
       "      <td>2017</td>\n",
       "      <td>5103403</td>\n",
       "      <td>117</td>\n",
       "      <td>0</td>\n",
       "      <td>15</td>\n",
       "      <td>1114</td>\n",
       "      <td>0</td>\n",
       "      <td>42</td>\n",
       "      <td>734</td>\n",
       "      <td>1866</td>\n",
       "      <td>457</td>\n",
       "      <td>58.1</td>\n",
       "      <td>72.6</td>\n",
       "      <td>53.2</td>\n",
       "    </tr>\n",
       "  </tbody>\n",
       "</table>\n",
       "</div>"
      ],
      "text/plain": [
       "          ID_TEMPO  CO_MUNIC_CURSO  ID_CURSO  ID_IES_ANO  ID_PRESENCA  \\\n",
       "ID_PROVA                                                                \n",
       "0             2017         5103403       117           0           15   \n",
       "1             2017         5103403       117           0           15   \n",
       "2             2017         5103403       117           0           11   \n",
       "3             2017         5103403       117           0           15   \n",
       "\n",
       "          ID_ALUNO_INFO  ID_ALUNO_ENSINO_MEDIO  ID_FORMACAO_FAMILIA  \\\n",
       "ID_PROVA                                                              \n",
       "0                  1940                      5                   46   \n",
       "1                   974                      1                   54   \n",
       "2                  1123                      5                   58   \n",
       "3                  1114                      0                   42   \n",
       "\n",
       "          ID_OPORTUNIDADES  ID_ALUNO_ECONOMICO  ID_PERCEPCAO_PROVA  NT_GER  \\\n",
       "ID_PROVA                                                                     \n",
       "0                    12892                2011                1061    52.6   \n",
       "1                    13992                5723                 101    63.1   \n",
       "2                       27                2935                  61    33.7   \n",
       "3                      734                1866                 457    58.1   \n",
       "\n",
       "          NT_FG  NT_CE  \n",
       "ID_PROVA                \n",
       "0          64.1   48.7  \n",
       "1          82.1   56.7  \n",
       "2          52.5   27.4  \n",
       "3          72.6   53.2  "
      ]
     },
     "execution_count": 88,
     "metadata": {},
     "output_type": "execute_result"
    }
   ],
   "source": [
    "fato_prova.head(4)"
   ]
  },
  {
   "cell_type": "markdown",
   "id": "d6cc5577",
   "metadata": {},
   "source": [
    "# Inserção de Tabelas na Base de Dados"
   ]
  },
  {
   "cell_type": "code",
   "execution_count": 89,
   "id": "86c01ebc",
   "metadata": {},
   "outputs": [],
   "source": [
    "def nova_conexao(path, nome_bd):\n",
    "\n",
    "    conec_bd = None\n",
    "    try:\n",
    "        conec_bd = sqlite3.connect(path + nome_bd)\n",
    "\n",
    "    except Error as erro:\n",
    "        print(erro)\n",
    "        return 0\n",
    "    \n",
    "    finally:\n",
    "        if conec_bd:\n",
    "            conec_bd.close()\n",
    "    return 1"
   ]
  },
  {
   "cell_type": "code",
   "execution_count": 90,
   "id": "0e3d2427",
   "metadata": {},
   "outputs": [],
   "source": [
    "def verifica_tabela_existe(cursor, nome_tabela):\n",
    "    \n",
    "    cursor.execute(''' SELECT name FROM sqlite_master WHERE type='table' AND name='{}' '''.format(nome_tabela))\n",
    "    \n",
    "    if cursor.fetchone():\n",
    "        return 1\n",
    "    else:\n",
    "        return 0"
   ]
  },
  {
   "cell_type": "code",
   "execution_count": 91,
   "id": "963b518a",
   "metadata": {},
   "outputs": [],
   "source": [
    "def insere_tabelas_banco(df, nome_tabela):  \n",
    "\n",
    "    path_atual = os.path.dirname(os.path.realpath('__file__')) + \"\\\\\" # Diretório corrente\n",
    "    \n",
    "    nome_index = df.index.name\n",
    "    df = df.reset_index(drop = False)\n",
    "\n",
    "    # Verifica se já existe tabela referente ao ano do Enade no banco\n",
    "    tabela_existe = verifica_tabela_existe(cursor, nome_tabela)\n",
    "\n",
    "    # Se não existe a tabela, é adicionada ao banco\n",
    "    if not tabela_existe:\n",
    "        \n",
    "        dicionario_tipos = dict(df.dtypes)        \n",
    "        \n",
    "        for key in dicionario_tipos.keys():\n",
    "    \n",
    "            if is_integer_dtype(dicionario_tipos[key]):\n",
    "                dicionario_tipos[key] = \"integer\"\n",
    "\n",
    "            elif is_object_dtype(dicionario_tipos[key]):\n",
    "                dicionario_tipos[key] = \"text\"\n",
    "\n",
    "            elif is_float_dtype(dicionario_tipos[key]):\n",
    "                dicionario_tipos[key] = \"real\"\n",
    "                \n",
    " \n",
    "        # Transforma o nome da coluna seguido por seu tipo em apenas uma string para cada coluna\n",
    "        # Logo após concatena essas strings utilizando a vírgula como separador\n",
    "        # Sendo o íncio da string final por exemplo:\n",
    "        colunas = \", \".join([key + \" \" + value for key, value in dicionario_tipos.items()])\n",
    "  \n",
    "        print(\"Criando tabela {} ...\".format(nome_tabela), end=\"\\r\", flush=True)\n",
    "\n",
    "        # Cria a tabela no banco de dados sqlite passando o nome da tabela, o nome das colunas e seus tipos\n",
    "        comando = f'CREATE TABLE {nome_tabela} ({colunas})'\n",
    "#         comando = 'CREATE TABLE ' + nome_tabela + ' (' + colunas + ')'\n",
    "        cursor.execute('' + comando + '')\n",
    "    \n",
    "        if nome_index is not None:\n",
    "\n",
    "            comando = f'CREATE INDEX {nome_index} ON {nome_tabela} ({nome_index})'\n",
    "            cursor.execute('' + comando + '')\n",
    "        \n",
    "        print(\"Tabela {} criada com sucesso no banco {}.\".format(nome_tabela, nome_bd), end=\"\\n\\n\")\n",
    "\n",
    "        print(\"Importando Microdados para a tabela {} ...\".format(nome_tabela), end=\"\\r\", flush=True)\n",
    "        # Importa o dataframe com microdados referentes ao no para a tabela no banco de dados\n",
    "        \n",
    "        df.to_sql(nome_tabela, conec_bd, if_exists='append', index = False)\n",
    "        conec_bd.commit()\n",
    "        print(\"Microdados importados para a tabela {} com sucesso.\".format(nome_tabela), end=\"\\n\\n\")\n",
    "\n",
    "    # Se a tabela já existe, nada acontece\n",
    "    else:\n",
    "        print(\"Tabela {} com Microdados já existe no banco de dados no banco.\".format(nome_tabela, nome_bd), end=\"\\n\\n\")\n",
    "        \n",
    "    print(\"-\" * 90)"
   ]
  },
  {
   "cell_type": "code",
   "execution_count": 93,
   "id": "9b14dea7",
   "metadata": {},
   "outputs": [
    {
     "name": "stdout",
     "output_type": "stream",
     "text": [
      "Conexão ao banco 'Enade_DW.sqlite' criada com sucesso.\n",
      "\n",
      "------------------------------------------------------------------------------------------\n",
      "Tabela DIM_ALUNO_ECON criada com sucesso no banco Enade_DW.sqlite.\n",
      "\n",
      "Microdados importados para a tabela DIM_ALUNO_ECON com sucesso.\n",
      "\n",
      "------------------------------------------------------------------------------------------\n",
      "Tabela DIM_CURSO criada com sucesso no banco Enade_DW.sqlite.\n",
      "\n",
      "Microdados importados para a tabela DIM_CURSO com sucesso.\n",
      "\n",
      "------------------------------------------------------------------------------------------\n",
      "Tabela DIM_ENSINO_MEDIO criada com sucesso no banco Enade_DW.sqlite.\n",
      "\n",
      "Microdados importados para a tabela DIM_ENSINO_MEDIO com sucesso.\n",
      "\n",
      "------------------------------------------------------------------------------------------\n",
      "Tabela DIM_FORMACAO_FAMILIARES criada com sucesso no banco Enade_DW.sqlite.\n",
      "\n",
      "Microdados importados para a tabela DIM_FORMACAO_FAMILIARES com sucesso.\n",
      "\n",
      "------------------------------------------------------------------------------------------\n",
      "Tabela DIM_IES criada com sucesso no banco Enade_DW.sqlite.\n",
      "\n",
      "Microdados importados para a tabela DIM_IES com sucesso.\n",
      "\n",
      "------------------------------------------------------------------------------------------\n",
      "Tabela DIM_INFO_ALUNO criada com sucesso no banco Enade_DW.sqlite.\n",
      "\n",
      "Microdados importados para a tabela DIM_INFO_ALUNO com sucesso.\n",
      "\n",
      "------------------------------------------------------------------------------------------\n",
      "Tabela DIM_OPORTUNIDADES criada com sucesso no banco Enade_DW.sqlite.\n",
      "\n",
      "Microdados importados para a tabela DIM_OPORTUNIDADES com sucesso.\n",
      "\n",
      "------------------------------------------------------------------------------------------\n",
      "Tabela DIM_PERCEPCAO_PROVA criada com sucesso no banco Enade_DW.sqlite.\n",
      "\n",
      "Microdados importados para a tabela DIM_PERCEPCAO_PROVA com sucesso.\n",
      "\n",
      "------------------------------------------------------------------------------------------\n",
      "Tabela DIM_PRESENCA criada com sucesso no banco Enade_DW.sqlite.\n",
      "\n",
      "Microdados importados para a tabela DIM_PRESENCA com sucesso.\n",
      "\n",
      "------------------------------------------------------------------------------------------\n",
      "Tabela DIM_REGIAO criada com sucesso no banco Enade_DW.sqlite.\n",
      "\n",
      "Microdados importados para a tabela DIM_REGIAO com sucesso.\n",
      "\n",
      "------------------------------------------------------------------------------------------\n",
      "Tabela DIM_TEMPO criada com sucesso no banco Enade_DW.sqlite.\n",
      "\n",
      "Microdados importados para a tabela DIM_TEMPO com sucesso.\n",
      "\n",
      "------------------------------------------------------------------------------------------\n",
      "Tabela FATO_PROVA criada com sucesso no banco Enade_DW.sqlite.\n",
      "\n",
      "Microdados importados para a tabela FATO_PROVA com sucesso.\n",
      "\n",
      "------------------------------------------------------------------------------------------\n",
      "Conexão ao banco 'Enade_DW.sqlite' encerrada com sucesso.\n",
      "\n"
     ]
    }
   ],
   "source": [
    "# Ininia a Conexão\n",
    "if (nova_conexao(diretorio_atual,  nome_bd)):\n",
    "    conec_bd = sqlite3.connect(diretorio_atual + nome_bd)\n",
    "    cursor = conec_bd.cursor()\n",
    "    print(\"Conexão ao banco '{}' criada com sucesso.\\n\".format(nome_bd))\n",
    "    print(\"-\" * 90)\n",
    "    conec_bd.commit()\n",
    "    \n",
    "# Nomes das variáveis que contém os dataframes que serão importados\n",
    "tabelas = [ df for df in dir() if df.startswith('dim_') or df.startswith('fato_')]\n",
    "\n",
    "# Insere as Tabelas\n",
    "\n",
    "for nome_tabela in tabelas:\n",
    "    insere_tabelas_banco(globals()[nome_tabela], nome_tabela.upper())\n",
    "\n",
    "# Encerra a Conexão\n",
    "conec_bd.close()\n",
    "print(f\"Conexão ao banco '{nome_bd}' encerrada com sucesso.\\n\")"
   ]
  }
 ],
 "metadata": {
  "kernelspec": {
   "display_name": "Python 3",
   "language": "python",
   "name": "python3"
  },
  "language_info": {
   "codemirror_mode": {
    "name": "ipython",
    "version": 3
   },
   "file_extension": ".py",
   "mimetype": "text/x-python",
   "name": "python",
   "nbconvert_exporter": "python",
   "pygments_lexer": "ipython3",
   "version": "3.8.8"
  }
 },
 "nbformat": 4,
 "nbformat_minor": 5
}
